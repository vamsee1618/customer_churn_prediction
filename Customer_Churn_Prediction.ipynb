{
  "cells": [
    {
      "cell_type": "markdown",
      "source": [
        "# Venmo Customer Churn\n",
        "\n"
      ],
      "metadata": {
        "id": "tNtyxRxYZpSG"
      }
    },
    {
      "cell_type": "markdown",
      "source": [
        "### Setting up the Spark and Loading the Dataset"
      ],
      "metadata": {
        "id": "Fr8o8WrdZ7aS"
      }
    },
    {
      "cell_type": "code",
      "execution_count": 1,
      "metadata": {
        "id": "_XwjDePbo6rs",
        "colab": {
          "base_uri": "https://localhost:8080/"
        },
        "outputId": "ab698975-611f-49ce-c378-640081ed047c"
      },
      "outputs": [
        {
          "output_type": "stream",
          "name": "stdout",
          "text": [
            "Mounted at /content/drive\n"
          ]
        }
      ],
      "source": [
        "from google.colab import drive\n",
        "drive.mount('/content/drive')"
      ]
    },
    {
      "cell_type": "code",
      "execution_count": 2,
      "metadata": {
        "id": "cukI4W45wcin",
        "colab": {
          "base_uri": "https://localhost:8080/"
        },
        "outputId": "e775cea9-29f0-4276-c334-07824654b50a"
      },
      "outputs": [
        {
          "output_type": "stream",
          "name": "stdout",
          "text": [
            "setup Colab for PySpark  and Spark NLP \n",
            "Collecting spark-nlp==4.4.0\n",
            "  Downloading spark_nlp-4.4.0-py2.py3-none-any.whl (486 kB)\n",
            "\u001b[2K     \u001b[90m━━━━━━━━━━━━━━━━━━━━━━━━━━━━━━━━━━━━━━━\u001b[0m \u001b[32m486.4/486.4 kB\u001b[0m \u001b[31m6.6 MB/s\u001b[0m eta \u001b[36m0:00:00\u001b[0m\n",
            "\u001b[?25hInstalling collected packages: spark-nlp\n",
            "Successfully installed spark-nlp-4.4.0\n"
          ]
        }
      ],
      "source": [
        "# Run below commands\n",
        "!echo \"setup Colab for PySpark $PYSPARK and Spark NLP $SPARKNLP\"\n",
        "!apt-get install openjdk-8-jdk-headless -qq > /dev/null\n",
        "!wget -q https://archive.apache.org/dist/spark/spark-3.1.2/spark-3.1.2-bin-hadoop3.2.tgz\n",
        "!tar xf spark-3.1.2-bin-hadoop3.2.tgz\n",
        "!pip install -q findspark\n",
        "!pip install spark-nlp==4.4.0"
      ]
    },
    {
      "cell_type": "code",
      "execution_count": 3,
      "metadata": {
        "id": "H76Dh23b6zlC"
      },
      "outputs": [],
      "source": [
        "import os\n",
        "os.environ[\"JAVA_HOME\"] = \"/usr/lib/jvm/java-8-openjdk-amd64\"\n",
        "os.environ[\"SPARK_HOME\"] = \"/content/spark-3.1.2-bin-hadoop3.2\""
      ]
    },
    {
      "cell_type": "code",
      "execution_count": 4,
      "metadata": {
        "id": "0y56wjea7iwa"
      },
      "outputs": [],
      "source": [
        "\n",
        "import findspark\n",
        "findspark.init()\n",
        "from pyspark.sql import SparkSession\n",
        "from pyspark.sql.functions import (col,datediff,when, lit,\n",
        "                                   regexp_replace,max,min, year,concat,month,lag,\n",
        "                                   coalesce,array_contains,length,udf,size,split,\n",
        "                                   explode, arrays_zip, mean, collect_list,concat_ws,avg)\n",
        "\n",
        "\n",
        "import random\n",
        "import pandas as pd\n",
        "#Spark ML and SQL\n",
        "from pyspark.ml import Pipeline, PipelineModel\n",
        "from pyspark.sql import SparkSession\n",
        "from pyspark.sql.types import StructType, StructField, IntegerType, StringType, DoubleType\n",
        "from pyspark.sql.functions import col\n",
        "#Spark NLP\n",
        "import sparknlp\n",
        "from sparknlp.pretrained import PretrainedPipeline\n",
        "from sparknlp.annotator import *\n",
        "from sparknlp.common import RegexRule\n",
        "from sparknlp.base import DocumentAssembler, Finisher\n",
        "from pyspark.sql.types import StringType\n",
        "from pyspark.sql.window import Window\n",
        "from pyspark.sql.types import ArrayType, IntegerType"
      ]
    },
    {
      "cell_type": "code",
      "execution_count": 5,
      "metadata": {
        "id": "w7FFMcGz8lBk"
      },
      "outputs": [],
      "source": [
        "spark = sparknlp.start()\n",
        "spark.conf.set(\"spark.sql.repl.eagerEval.enabled\", True) # Property used to format output tables better\n",
        "# spark.conf.set()\n"
      ]
    },
    {
      "cell_type": "code",
      "execution_count": 6,
      "metadata": {
        "id": "C-wnvU6B44kN",
        "colab": {
          "base_uri": "https://localhost:8080/",
          "height": 219
        },
        "outputId": "8da92e58-65d0-4783-f56c-f427e7fd736e"
      },
      "outputs": [
        {
          "output_type": "execute_result",
          "data": {
            "text/plain": [
              "<pyspark.sql.session.SparkSession at 0x7b40a06743d0>"
            ],
            "text/html": [
              "\n",
              "            <div>\n",
              "                <p><b>SparkSession - in-memory</b></p>\n",
              "                \n",
              "        <div>\n",
              "            <p><b>SparkContext</b></p>\n",
              "\n",
              "            <p><a href=\"http://3540102a3a12:4040\">Spark UI</a></p>\n",
              "\n",
              "            <dl>\n",
              "              <dt>Version</dt>\n",
              "                <dd><code>v3.1.2</code></dd>\n",
              "              <dt>Master</dt>\n",
              "                <dd><code>local[*]</code></dd>\n",
              "              <dt>AppName</dt>\n",
              "                <dd><code>Spark NLP</code></dd>\n",
              "            </dl>\n",
              "        </div>\n",
              "        \n",
              "            </div>\n",
              "        "
            ]
          },
          "metadata": {},
          "execution_count": 6
        }
      ],
      "source": [
        "spark"
      ]
    },
    {
      "cell_type": "code",
      "execution_count": 7,
      "metadata": {
        "id": "1HzwVcEY5ACb"
      },
      "outputs": [],
      "source": [
        "venmo = spark.read.parquet(\"drive/Shareddrives/Venmo_Project/VenmoSample.snappy.parquet\")"
      ]
    },
    {
      "cell_type": "markdown",
      "metadata": {
        "id": "aTg_MNiCpvnr"
      },
      "source": [
        "### Creation of Churn Columns"
      ]
    },
    {
      "cell_type": "code",
      "execution_count": 8,
      "metadata": {
        "id": "AeVwlJXK6xYQ"
      },
      "outputs": [],
      "source": [
        "venmo = venmo.withColumn(\"year_month\", concat(year(col(\"datetime\")).cast(StringType() ), lit(\"-\"),\n",
        "                                              when(month(col(\"datetime\")) <10,\n",
        "                                                   concat(lit(\"0\"), month(col(\"datetime\")).cast(StringType()))).otherwise(month(col(\"datetime\")).cast(StringType())) ))\n",
        "\n",
        "window_y_var = Window.partitionBy(\"user1\")\n",
        "\n",
        "venmo = venmo.withColumn(\"max_year_month\", max(col(\"year_month\")).over(window_y_var)).withColumn(\"min_year_month\", min(col(\"year_month\")).over(window_y_var))\n",
        "\n",
        "venmo = venmo.filter(col(\"min_year_month\") < \"2014-06\")\n"
      ]
    },
    {
      "cell_type": "code",
      "execution_count": 9,
      "metadata": {
        "id": "2bGP_P0r8ioY"
      },
      "outputs": [],
      "source": [
        "venmo = venmo.withColumn(\"churn\", when(col(\"max_year_month\") < \"2014-06\", 1).otherwise(0))"
      ]
    },
    {
      "cell_type": "code",
      "execution_count": 10,
      "metadata": {
        "id": "wSbCDqCTw7Qr"
      },
      "outputs": [],
      "source": [
        "venmo = venmo.cache()"
      ]
    },
    {
      "cell_type": "markdown",
      "metadata": {
        "id": "cwkHWJ7QoDr6"
      },
      "source": [
        "### Text Data Preparation\n",
        "\n"
      ]
    },
    {
      "cell_type": "code",
      "execution_count": 11,
      "metadata": {
        "id": "t6ijxTlxvhVI"
      },
      "outputs": [],
      "source": [
        "emoji_pattern = u'[^\\U0001F300-\\U0001F64F\\U0001F680-\\U0001F6FF\\u2600-\\u26FF\\u2700-\\u27BF]'\n",
        "venmo = venmo.withColumn(\"emoji_only\",regexp_replace(col('description'), emoji_pattern, ''))\n",
        "punc_pattern = r'[^,|\\.|&|\\\\|\\||-|_|!]'\n",
        "venmo = venmo.withColumn(\"punctuations\", regexp_replace(\"description\", punc_pattern, \"\"))\n",
        "textonly_pattern = r'[^\\w\\s]|_'\n",
        "venmo = venmo.withColumn(\"text_only\",regexp_replace(col('description'), textonly_pattern, ''))"
      ]
    },
    {
      "cell_type": "code",
      "execution_count": 12,
      "metadata": {
        "id": "6ND5WZfC5FMd"
      },
      "outputs": [],
      "source": [
        "venmo = venmo.withColumn(\"text_only\", when(col(\"text_only\") == \" \", None).otherwise(col(\"text_only\")))\n",
        "venmo = venmo.withColumn(\"punctuations\", when(col(\"punctuations\") == \"\", None).otherwise(col(\"punctuations\")))\n",
        "venmo = venmo.withColumn(\"emoji_only\", when(col(\"emoji_only\") == \"\", None).otherwise(col(\"emoji_only\")))"
      ]
    },
    {
      "cell_type": "code",
      "execution_count": 13,
      "metadata": {
        "id": "hdH8yth7CMxV"
      },
      "outputs": [],
      "source": [
        "venmo = venmo.withColumn(\"characteronly_length\", length(\"text_only\"))\n",
        "venmo = venmo.withColumn(\"punctuations_length\", length(\"punctuations\"))\n",
        "venmo = venmo.withColumn(\"emoji_length\", length(\"emoji_only\"))"
      ]
    },
    {
      "cell_type": "code",
      "execution_count": 14,
      "metadata": {
        "id": "An_3ZsMko5QO"
      },
      "outputs": [],
      "source": [
        "### User Level Aggregation\n",
        "venmo_user = venmo.groupBy(\"user1\") \\\n",
        "              .agg(avg(\"churn\").alias(\"churn\"), \\\n",
        "                   concat_ws(\" \",collect_list(\"text_only\")).alias(\"text_only\"))\n",
        "venmo_user = venmo_user.filter(col('text_only').isNotNull() | (col('text_only') != ''))"
      ]
    },
    {
      "cell_type": "code",
      "execution_count": 15,
      "metadata": {
        "id": "2bm7icG8vd44"
      },
      "outputs": [],
      "source": [
        "### User Level Aggregation\n",
        "venmo_user = venmo.groupBy(\"user1\") \\\n",
        "              .agg(avg(\"churn\").alias(\"churn\"), \\\n",
        "                   min(\"datetime\").alias(\"customer_join_Date\"),\\\n",
        "                   avg(\"characteronly_length\").alias(\"avg_characteronly_length\"), \\\n",
        "                   avg(\"punctuations_length\").alias(\"avg_punctuations_length\"), \\\n",
        "                   avg(\"emoji_length\").alias(\"avg_emoji_length\"), \\\n",
        "                   concat_ws(\" \",collect_list(\"punctuations\")).alias(\"punctuations\"),\\\n",
        "                   concat_ws(\" \",collect_list(\"emoji_only\")).alias(\"emoji_only\"),\\\n",
        "                   concat_ws(\" \", collect_list(\"text_only\")).alias(\"text_only\"))"
      ]
    },
    {
      "cell_type": "markdown",
      "source": [
        "### Descriptive Statistics"
      ],
      "metadata": {
        "id": "_Mj2n45FarZq"
      }
    },
    {
      "cell_type": "code",
      "execution_count": 16,
      "metadata": {
        "id": "ha1BYa95y56D",
        "colab": {
          "base_uri": "https://localhost:8080/",
          "height": 87
        },
        "outputId": "cb7fce3e-eb6d-47ff-e309-a4d1f77017ea"
      },
      "outputs": [
        {
          "output_type": "execute_result",
          "data": {
            "text/plain": [
              "+-----+------+\n",
              "|churn| count|\n",
              "+-----+------+\n",
              "|  0.0|105647|\n",
              "|  1.0| 27556|\n",
              "+-----+------+"
            ],
            "text/html": [
              "<table border='1'>\n",
              "<tr><th>churn</th><th>count</th></tr>\n",
              "<tr><td>0.0</td><td>105647</td></tr>\n",
              "<tr><td>1.0</td><td>27556</td></tr>\n",
              "</table>\n"
            ]
          },
          "metadata": {},
          "execution_count": 16
        }
      ],
      "source": [
        "venmo_user.groupBy('churn').count()"
      ]
    },
    {
      "cell_type": "code",
      "execution_count": 17,
      "metadata": {
        "id": "_cs_8U6E07Bp",
        "colab": {
          "base_uri": "https://localhost:8080/",
          "height": 220
        },
        "outputId": "b969da02-4aee-4110-c49c-adf0683e9165"
      },
      "outputs": [
        {
          "output_type": "execute_result",
          "data": {
            "text/plain": [
              "+---------+-----+-----+\n",
              "|join_year|churn|count|\n",
              "+---------+-----+-----+\n",
              "|     2012|  1.0| 1699|\n",
              "|     2011|  0.0|    2|\n",
              "|     2011|  1.0|    2|\n",
              "|     2013|  0.0|36387|\n",
              "|     2012|  0.0| 2144|\n",
              "|     2014|  1.0|14852|\n",
              "|     2013|  1.0|11003|\n",
              "|     2014|  0.0|67114|\n",
              "+---------+-----+-----+"
            ],
            "text/html": [
              "<table border='1'>\n",
              "<tr><th>join_year</th><th>churn</th><th>count</th></tr>\n",
              "<tr><td>2012</td><td>1.0</td><td>1699</td></tr>\n",
              "<tr><td>2011</td><td>0.0</td><td>2</td></tr>\n",
              "<tr><td>2011</td><td>1.0</td><td>2</td></tr>\n",
              "<tr><td>2013</td><td>0.0</td><td>36387</td></tr>\n",
              "<tr><td>2012</td><td>0.0</td><td>2144</td></tr>\n",
              "<tr><td>2014</td><td>1.0</td><td>14852</td></tr>\n",
              "<tr><td>2013</td><td>1.0</td><td>11003</td></tr>\n",
              "<tr><td>2014</td><td>0.0</td><td>67114</td></tr>\n",
              "</table>\n"
            ]
          },
          "metadata": {},
          "execution_count": 17
        }
      ],
      "source": [
        "venmo_user.withColumn('join_year', year('customer_join_Date')) \\\n",
        "               .groupBy('join_year', 'churn') \\\n",
        "               .count()"
      ]
    },
    {
      "cell_type": "code",
      "execution_count": 18,
      "metadata": {
        "id": "3ZtSYePS1rad",
        "colab": {
          "base_uri": "https://localhost:8080/",
          "height": 87
        },
        "outputId": "9e860671-a04b-4f7f-f1e3-dfcb55569647"
      },
      "outputs": [
        {
          "output_type": "execute_result",
          "data": {
            "text/plain": [
              "+-----+------------------+------------------+------------------+\n",
              "|churn|  character_length|punctuation_length|      emoji_length|\n",
              "+-----+------------------+------------------+------------------+\n",
              "|  0.0|11.353546826258645|1.7344078299168657| 2.267132210338817|\n",
              "|  1.0|14.791064078390034|  1.69310174919931|2.2638108189785426|\n",
              "+-----+------------------+------------------+------------------+"
            ],
            "text/html": [
              "<table border='1'>\n",
              "<tr><th>churn</th><th>character_length</th><th>punctuation_length</th><th>emoji_length</th></tr>\n",
              "<tr><td>0.0</td><td>11.353546826258645</td><td>1.7344078299168657</td><td>2.267132210338817</td></tr>\n",
              "<tr><td>1.0</td><td>14.791064078390034</td><td>1.69310174919931</td><td>2.2638108189785426</td></tr>\n",
              "</table>\n"
            ]
          },
          "metadata": {},
          "execution_count": 18
        }
      ],
      "source": [
        "venmo_user.groupBy('churn').agg(avg('avg_characteronly_length').alias('character_length'),\\\n",
        "                                avg('avg_punctuations_length').alias('punctuation_length'),\\\n",
        "                                avg('avg_emoji_length').alias('emoji_length'))"
      ]
    },
    {
      "cell_type": "markdown",
      "source": [
        "## Model Development"
      ],
      "metadata": {
        "id": "4WrADPmsa60m"
      }
    },
    {
      "cell_type": "code",
      "execution_count": 19,
      "metadata": {
        "id": "9x2hz7Ee4lOb"
      },
      "outputs": [],
      "source": [
        "# Perform stratified sampling\n",
        "venmo_user =  venmo_user.fillna(0)\n",
        "venmo_train = venmo_user.sampleBy('churn', fractions={0: 0.7, 1: 0.7}, seed=10)\n",
        "venmo_test = venmo_user.subtract(venmo_train)"
      ]
    },
    {
      "cell_type": "code",
      "execution_count": 20,
      "metadata": {
        "id": "a5Xbaxp07KXh"
      },
      "outputs": [],
      "source": [
        "from pyspark.ml.classification import LogisticRegression\n",
        "from pyspark.ml.feature import VectorAssembler\n",
        "\n",
        "\n",
        "assembler = VectorAssembler(inputCols=[\"avg_characteronly_length\",\"avg_punctuations_length\",\"avg_emoji_length\"], outputCol=\"features\")\n",
        "training_data = assembler.transform(venmo_train)\n",
        "testing_data = assembler.transform(venmo_test)"
      ]
    },
    {
      "cell_type": "code",
      "execution_count": 21,
      "metadata": {
        "id": "32lWpmb7_Cgo",
        "colab": {
          "base_uri": "https://localhost:8080/",
          "height": 87
        },
        "outputId": "6bb3e75a-9729-41ab-9427-3cbfabd7a08e"
      },
      "outputs": [
        {
          "output_type": "execute_result",
          "data": {
            "text/plain": [
              "+-----+-----+\n",
              "|churn|count|\n",
              "+-----+-----+\n",
              "|  0.0|73876|\n",
              "|  1.0|19276|\n",
              "+-----+-----+"
            ],
            "text/html": [
              "<table border='1'>\n",
              "<tr><th>churn</th><th>count</th></tr>\n",
              "<tr><td>0.0</td><td>73876</td></tr>\n",
              "<tr><td>1.0</td><td>19276</td></tr>\n",
              "</table>\n"
            ]
          },
          "metadata": {},
          "execution_count": 21
        }
      ],
      "source": [
        "training_data.groupBy('churn').count()"
      ]
    },
    {
      "cell_type": "code",
      "execution_count": 22,
      "metadata": {
        "id": "Fe-KdjdGLrzR",
        "colab": {
          "base_uri": "https://localhost:8080/",
          "height": 87
        },
        "outputId": "889ff3a9-8512-4c39-d149-d90065c0eaef"
      },
      "outputs": [
        {
          "output_type": "execute_result",
          "data": {
            "text/plain": [
              "+-----+-----+\n",
              "|churn|count|\n",
              "+-----+-----+\n",
              "|  0.0|31765|\n",
              "|  1.0| 8286|\n",
              "+-----+-----+"
            ],
            "text/html": [
              "<table border='1'>\n",
              "<tr><th>churn</th><th>count</th></tr>\n",
              "<tr><td>0.0</td><td>31765</td></tr>\n",
              "<tr><td>1.0</td><td>8286</td></tr>\n",
              "</table>\n"
            ]
          },
          "metadata": {},
          "execution_count": 22
        }
      ],
      "source": [
        "testing_data.groupBy('churn').count()"
      ]
    },
    {
      "cell_type": "markdown",
      "source": [
        "### Logistic Regression with Count Variables"
      ],
      "metadata": {
        "id": "B6vDezqybhJ3"
      }
    },
    {
      "cell_type": "code",
      "execution_count": 23,
      "metadata": {
        "id": "W4TZiBTm7jjQ",
        "colab": {
          "base_uri": "https://localhost:8080/"
        },
        "outputId": "3311cb36-a068-4499-b985-9e6fbd566f87"
      },
      "outputs": [
        {
          "output_type": "stream",
          "name": "stdout",
          "text": [
            "Coefficients:\n",
            "             Feature Estimate Std Error  T Value P Value\n",
            "         (Intercept)  -0.5386    0.0160 -33.7362  0.0000\n",
            "avg_characteronly...   0.0262    0.0009  27.8479  0.0000\n",
            "avg_punctuations_...  -0.5342    0.0133 -40.1019  0.0000\n",
            "    avg_emoji_length  -1.5221    0.0170 -89.6653  0.0000\n",
            "\n",
            "(Dispersion parameter for binomial family taken to be 1.0000)\n",
            "    Null deviance: 94989.2292 on 93148 degrees of freedom\n",
            "Residual deviance: 72320.4353 on 93148 degrees of freedom\n",
            "AIC: 72328.4353\n"
          ]
        }
      ],
      "source": [
        "from pyspark.ml.regression import GeneralizedLinearRegression\n",
        "glr = GeneralizedLinearRegression(family=\"binomial\", maxIter=100, featuresCol='features',labelCol='churn')\n",
        "\n",
        "# Fit the model\n",
        "model = glr.fit(training_data)\n",
        "\n",
        "# Summarize the model over the training set and print out some metrics\n",
        "summary = model.summary\n",
        "print(summary)"
      ]
    },
    {
      "cell_type": "code",
      "execution_count": 24,
      "metadata": {
        "id": "LHNG1ETfLxiO",
        "colab": {
          "base_uri": "https://localhost:8080/"
        },
        "outputId": "83d757af-fc91-422d-96bc-a587596a7796"
      },
      "outputs": [
        {
          "output_type": "stream",
          "name": "stdout",
          "text": [
            "Train AUC: 0.5563\n"
          ]
        }
      ],
      "source": [
        "from pyspark.ml.evaluation import BinaryClassificationEvaluator\n",
        "evaluator = BinaryClassificationEvaluator(rawPredictionCol=\"prediction_label\", labelCol=\"churn\")\n",
        "predictions = model.transform(training_data)\n",
        "threshold = 0.5\n",
        "predictions = predictions.withColumn('prediction_label', when(predictions['prediction'] >= threshold, 1).otherwise(0))\n",
        "predictions = predictions.withColumn('prediction_label', col('prediction_label').cast('double'))\n",
        "auc = evaluator.evaluate(predictions, {evaluator.metricName: \"areaUnderROC\"})\n",
        "\n",
        "print(\"Train AUC: {:.4f}\".format(auc))"
      ]
    },
    {
      "cell_type": "code",
      "execution_count": 25,
      "metadata": {
        "id": "HhTIzDPYL6AK",
        "colab": {
          "base_uri": "https://localhost:8080/"
        },
        "outputId": "4a99f9b3-04e9-405c-ab9e-95e0548788d2"
      },
      "outputs": [
        {
          "output_type": "stream",
          "name": "stdout",
          "text": [
            "Test AUC: 0.5516\n"
          ]
        }
      ],
      "source": [
        "predictions = model.transform(testing_data)\n",
        "threshold = 0.5\n",
        "predictions = predictions.withColumn('prediction_label', when(predictions['prediction'] >= threshold, 1).otherwise(0))\n",
        "predictions = predictions.withColumn('prediction_label', col('prediction_label').cast('double'))\n",
        "auc = evaluator.evaluate(predictions, {evaluator.metricName: \"areaUnderROC\"})\n",
        "\n",
        "print(\"Test AUC: {:.4f}\".format(auc))"
      ]
    },
    {
      "cell_type": "code",
      "execution_count": 26,
      "metadata": {
        "id": "pj7ehM4pPjJN",
        "colab": {
          "base_uri": "https://localhost:8080/"
        },
        "outputId": "54e77da9-7adb-4603-f0c9-6dee9372364b"
      },
      "outputs": [
        {
          "output_type": "stream",
          "name": "stdout",
          "text": [
            "+----------------------+-----+---+\n",
            "|churn_prediction_label|  0.0|1.0|\n",
            "+----------------------+-----+---+\n",
            "|                   1.0| 7298|988|\n",
            "|                   0.0|31253|512|\n",
            "+----------------------+-----+---+\n",
            "\n"
          ]
        }
      ],
      "source": [
        "predictions.crosstab('churn', 'prediction_label').show()"
      ]
    },
    {
      "cell_type": "code",
      "execution_count": 27,
      "metadata": {
        "id": "FxHxMDu2UwjM",
        "colab": {
          "base_uri": "https://localhost:8080/"
        },
        "outputId": "692c53ff-4d3d-4a9f-fe2d-5eaf1847e0bd"
      },
      "outputs": [
        {
          "output_type": "stream",
          "name": "stdout",
          "text": [
            "Precision:  0.6586666666666666\n",
            "Recall:  0.11923726768042481\n"
          ]
        }
      ],
      "source": [
        "print(\"Precision: \",(988/(988+512)))\n",
        "print(\"Recall: \",(988/(988+7298)))"
      ]
    },
    {
      "cell_type": "markdown",
      "source": [
        "### LIWC Variables Inclusion"
      ],
      "metadata": {
        "id": "dNVoaOi8bovL"
      }
    },
    {
      "cell_type": "code",
      "execution_count": 28,
      "metadata": {
        "id": "7uGCDQuoVoG1"
      },
      "outputs": [],
      "source": [
        "venmo_liwc = spark.read.csv(\"drive/Shareddrives/Venmo_Project/data/liwc_results.csv\", header=True, inferSchema=True)\n",
        "venmo_train = venmo_train.join(venmo_liwc, venmo_train.user1 == venmo_liwc.user1, \"left\")\n",
        "venmo_train = venmo_train.fillna(0)\n",
        "venmo_test = venmo_test.join(venmo_liwc, venmo_test.user1 == venmo_liwc.user1, \"left\")\n",
        "venmo_test = venmo_test.fillna(0)"
      ]
    },
    {
      "cell_type": "code",
      "execution_count": 29,
      "metadata": {
        "id": "-V3KXpu-Xgs2"
      },
      "outputs": [],
      "source": [
        "features_list = ['Dic','avg_characteronly_length','avg_punctuations_length','avg_emoji_length','WC','BigWords'\n",
        " ,'pronoun','ppron','i','we','you','shehe','they','ipron','det','article','number','prep','auxverb','adverb','conj','negate', 'verb', 'adj', 'quantity', 'Drives',\n",
        " 'affiliation','achieve','power','Cognition','allnone','cogproc','insight','cause','discrep','tentat','certitude','differ','memory','Affect',\n",
        " 'tone_pos','tone_neg','emotion','emo_pos','emo_neg','emo_anx','emo_anger','emo_sad','swear','Social','socbehav','prosocial','polite','conflict','moral',\n",
        " 'comm','socrefs','family','friend','Culture','politic','ethnicity','tech','Lifestyle','leisure','home','work','money','relig','Physical','health','illness',\n",
        " 'wellness','mental','substances','sexual','food','death','need','want','acquire','lack','fulfill','fatigue','reward','risk','curiosity','allure',\n",
        " 'Perception', 'attention','motion', 'space', 'visual', 'auditory', 'feeling', 'time', 'focuspast', 'focuspresent', 'focusfuture', 'Conversation', 'netspeak', 'assent', 'nonflu', 'filler']"
      ]
    },
    {
      "cell_type": "code",
      "execution_count": 30,
      "metadata": {
        "id": "-0LwXk7WXdnU"
      },
      "outputs": [],
      "source": [
        "assembler = VectorAssembler(inputCols=features_list, outputCol=\"features\")\n",
        "training_data = assembler.transform(venmo_train)\n",
        "testing_data = assembler.transform(venmo_test)"
      ]
    },
    {
      "cell_type": "code",
      "execution_count": 31,
      "metadata": {
        "id": "eSMJyRPE7K6t"
      },
      "outputs": [],
      "source": [
        "# IMPORT\n",
        "import numpy as np\n",
        "from numpy import allclose\n",
        "from pyspark.ml.linalg import Vectors\n",
        "from pyspark.ml.feature import StringIndexer\n",
        "from pyspark.ml.classification import RandomForestClassifier\n",
        "\n",
        "\n",
        "# BUILD THE MODEL\n",
        "rf = RandomForestClassifier(numTrees=1000, maxDepth=5, labelCol=\"churn\", seed=42,subsamplingRate=0.4)\n",
        "model = rf.fit(training_data)\n",
        "\n",
        "# FEATURE IMPORTANCES"
      ]
    },
    {
      "cell_type": "code",
      "execution_count": 32,
      "metadata": {
        "id": "kBetcXYtBmWB",
        "colab": {
          "base_uri": "https://localhost:8080/",
          "height": 1000
        },
        "outputId": "65fc8872-a142-4ac4-b132-d9a1c9401900"
      },
      "outputs": [
        {
          "output_type": "display_data",
          "data": {
            "text/plain": [
              "<Figure size 1000x2400 with 1 Axes>"
            ],
            "image/png": "[encoded data removed]"
          },
          "metadata": {}
        }
      ],
      "source": [
        "import matplotlib.pyplot as plt\n",
        "import numpy as np\n",
        "\n",
        "# Filter out zero importance features\n",
        "non_zero_indices = list(model.featureImportances.indices)\n",
        "non_zero_importances = list(model.featureImportances.values)\n",
        "non_zero_features = [features_list[index] for index in non_zero_indices]\n",
        "\n",
        "# Sort the features by importance in decreasing order\n",
        "sorted_indices = np.argsort(non_zero_importances)\n",
        "non_zero_indices = [non_zero_indices[i] for i in sorted_indices]\n",
        "non_zero_importances = [non_zero_importances[i] for i in sorted_indices]\n",
        "non_zero_features = [non_zero_features[i] for i in sorted_indices]\n",
        "\n",
        "# Increase the size of the plot\n",
        "plt.figure(figsize=(10, 24))\n",
        "\n",
        "# Creating the bar chart\n",
        "plt.barh(np.arange(len(non_zero_features)), non_zero_importances, align='center')\n",
        "plt.yticks(np.arange(len(non_zero_features)), non_zero_features)\n",
        "\n",
        "# Adding labels and title\n",
        "plt.xlabel('Importance')\n",
        "plt.ylabel('Features')\n",
        "plt.title('Feature Importances')\n",
        "\n",
        "# Displaying the chart\n",
        "plt.show()"
      ]
    },
    {
      "cell_type": "code",
      "execution_count": 33,
      "metadata": {
        "id": "bKpIUyIucjEZ",
        "colab": {
          "base_uri": "https://localhost:8080/"
        },
        "outputId": "9f08a481-df06-47b6-94dd-8c0874d993a0"
      },
      "outputs": [
        {
          "output_type": "stream",
          "name": "stdout",
          "text": [
            "Train AUC: 0.7890\n"
          ]
        }
      ],
      "source": [
        "from pyspark.ml.evaluation import BinaryClassificationEvaluator\n",
        "evaluator = BinaryClassificationEvaluator(rawPredictionCol=\"prediction_label\", labelCol=\"churn\")\n",
        "predictions = model.transform(training_data)\n",
        "threshold = 0.5\n",
        "predictions = predictions.withColumn('prediction_label', when(predictions['prediction'] >= threshold, 1).otherwise(0))\n",
        "predictions = predictions.withColumn('prediction_label', col('prediction_label').cast('double'))\n",
        "auc = evaluator.evaluate(predictions, {evaluator.metricName: \"areaUnderROC\"})\n",
        "\n",
        "print(\"Train AUC: {:.4f}\".format(auc))"
      ]
    },
    {
      "cell_type": "code",
      "execution_count": 34,
      "metadata": {
        "id": "5oMcydEDco9y",
        "colab": {
          "base_uri": "https://localhost:8080/"
        },
        "outputId": "24c43406-2e0b-478f-c13c-c9673bd4b476"
      },
      "outputs": [
        {
          "output_type": "stream",
          "name": "stdout",
          "text": [
            "Test AUC: 0.7912\n"
          ]
        }
      ],
      "source": [
        "predictions = model.transform(testing_data)\n",
        "threshold = 0.5\n",
        "predictions = predictions.withColumn('prediction_label', when(predictions['prediction'] >= threshold, 1).otherwise(0))\n",
        "predictions = predictions.withColumn('prediction_label', col('prediction_label').cast('double'))\n",
        "auc = evaluator.evaluate(predictions, {evaluator.metricName: \"areaUnderROC\"})\n",
        "\n",
        "print(\"Test AUC: {:.4f}\".format(auc))"
      ]
    },
    {
      "cell_type": "code",
      "execution_count": 35,
      "metadata": {
        "id": "qGN_tBn4wJ6K",
        "colab": {
          "base_uri": "https://localhost:8080/"
        },
        "outputId": "470016c5-4e59-490c-d9fb-0d5e45749c08"
      },
      "outputs": [
        {
          "output_type": "stream",
          "name": "stdout",
          "text": [
            "+----------------------+-----+----+\n",
            "|churn_prediction_label|  0.0| 1.0|\n",
            "+----------------------+-----+----+\n",
            "|                   1.0| 3305|4981|\n",
            "|                   0.0|31173| 592|\n",
            "+----------------------+-----+----+\n",
            "\n"
          ]
        }
      ],
      "source": [
        "predictions.crosstab('churn', 'prediction_label').show()"
      ]
    },
    {
      "cell_type": "code",
      "execution_count": 36,
      "metadata": {
        "id": "N-xZk5RNwRpt",
        "colab": {
          "base_uri": "https://localhost:8080/"
        },
        "outputId": "a5638c4c-1337-4909-8076-871d107b12c8"
      },
      "outputs": [
        {
          "output_type": "stream",
          "name": "stdout",
          "text": [
            "Precision:  0.8937735510497039\n",
            "Recall:  0.6011344436398744\n"
          ]
        }
      ],
      "source": [
        "print(\"Precision: \",(4981/(4981+592)))\n",
        "print(\"Recall: \",(4981/(4981+3305)))"
      ]
    },
    {
      "cell_type": "markdown",
      "source": [
        "### Model Development in Pandas, as sample being smaller size"
      ],
      "metadata": {
        "id": "bWCYH3PWcJ2S"
      }
    },
    {
      "cell_type": "code",
      "source": [
        "!pip install shap\n",
        "import numpy as np\n",
        "import pandas as pd\n",
        "from sklearn.ensemble import RandomForestClassifier\n",
        "from sklearn.model_selection import train_test_split\n",
        "from sklearn.metrics import precision_score, recall_score, roc_auc_score\n",
        "import shap\n",
        "import matplotlib.pyplot as plt"
      ],
      "metadata": {
        "id": "sqmeIEOVchQN",
        "colab": {
          "base_uri": "https://localhost:8080/"
        },
        "outputId": "39b7a891-2586-4de1-9e4f-9b948a8270cb"
      },
      "execution_count": 37,
      "outputs": [
        {
          "output_type": "stream",
          "name": "stdout",
          "text": [
            "Collecting shap\n",
            "  Downloading shap-0.42.1-cp310-cp310-manylinux_2_12_x86_64.manylinux2010_x86_64.manylinux_2_17_x86_64.manylinux2014_x86_64.whl (547 kB)\n",
            "\u001b[?25l     \u001b[90m━━━━━━━━━━━━━━━━━━━━━━━━━━━━━━━━━━━━━━━━\u001b[0m \u001b[32m0.0/547.9 kB\u001b[0m \u001b[31m?\u001b[0m eta \u001b[36m-:--:--\u001b[0m\r\u001b[2K     \u001b[91m━━━━━━━\u001b[0m\u001b[90m╺\u001b[0m\u001b[90m━━━━━━━━━━━━━━━━━━━━━━━━━━━━━━━\u001b[0m \u001b[32m102.4/547.9 kB\u001b[0m \u001b[31m2.8 MB/s\u001b[0m eta \u001b[36m0:00:01\u001b[0m\r\u001b[2K     \u001b[90m━━━━━━━━━━━━━━━━━━━━━━━━━━━━━━━━━━━━━━━\u001b[0m \u001b[32m547.9/547.9 kB\u001b[0m \u001b[31m8.0 MB/s\u001b[0m eta \u001b[36m0:00:00\u001b[0m\n",
            "\u001b[?25hRequirement already satisfied: numpy in /usr/local/lib/python3.10/dist-packages (from shap) (1.23.5)\n",
            "Requirement already satisfied: scipy in /usr/local/lib/python3.10/dist-packages (from shap) (1.11.2)\n",
            "Requirement already satisfied: scikit-learn in /usr/local/lib/python3.10/dist-packages (from shap) (1.2.2)\n",
            "Requirement already satisfied: pandas in /usr/local/lib/python3.10/dist-packages (from shap) (1.5.3)\n",
            "Requirement already satisfied: tqdm>=4.27.0 in /usr/local/lib/python3.10/dist-packages (from shap) (4.66.1)\n",
            "Requirement already satisfied: packaging>20.9 in /usr/local/lib/python3.10/dist-packages (from shap) (23.1)\n",
            "Collecting slicer==0.0.7 (from shap)\n",
            "  Downloading slicer-0.0.7-py3-none-any.whl (14 kB)\n",
            "Requirement already satisfied: numba in /usr/local/lib/python3.10/dist-packages (from shap) (0.56.4)\n",
            "Requirement already satisfied: cloudpickle in /usr/local/lib/python3.10/dist-packages (from shap) (2.2.1)\n",
            "Requirement already satisfied: llvmlite<0.40,>=0.39.0dev0 in /usr/local/lib/python3.10/dist-packages (from numba->shap) (0.39.1)\n",
            "Requirement already satisfied: setuptools in /usr/local/lib/python3.10/dist-packages (from numba->shap) (67.7.2)\n",
            "Requirement already satisfied: python-dateutil>=2.8.1 in /usr/local/lib/python3.10/dist-packages (from pandas->shap) (2.8.2)\n",
            "Requirement already satisfied: pytz>=2020.1 in /usr/local/lib/python3.10/dist-packages (from pandas->shap) (2023.3.post1)\n",
            "Requirement already satisfied: joblib>=1.1.1 in /usr/local/lib/python3.10/dist-packages (from scikit-learn->shap) (1.3.2)\n",
            "Requirement already satisfied: threadpoolctl>=2.0.0 in /usr/local/lib/python3.10/dist-packages (from scikit-learn->shap) (3.2.0)\n",
            "Requirement already satisfied: six>=1.5 in /usr/local/lib/python3.10/dist-packages (from python-dateutil>=2.8.1->pandas->shap) (1.16.0)\n",
            "Installing collected packages: slicer, shap\n",
            "Successfully installed shap-0.42.1 slicer-0.0.7\n"
          ]
        },
        {
          "output_type": "stream",
          "name": "stderr",
          "text": [
            "Using `tqdm.autonotebook.tqdm` in notebook mode. Use `tqdm.tqdm` instead to force console mode (e.g. in jupyter console)\n"
          ]
        }
      ]
    },
    {
      "cell_type": "code",
      "source": [
        "df_train = venmo_train.toPandas()\n",
        "df_test = venmo_test.toPandas()"
      ],
      "metadata": {
        "id": "ErVk_qeycWzb",
        "colab": {
          "base_uri": "https://localhost:8080/"
        },
        "outputId": "64c51bb8-b635-4e33-c72a-4fb9d2736a13"
      },
      "execution_count": 38,
      "outputs": [
        {
          "output_type": "stream",
          "name": "stderr",
          "text": [
            "Passing unit-less datetime64 dtype to .astype is deprecated and will raise in a future version. Pass 'datetime64[ns]' instead\n",
            "DataFrame is highly fragmented.  This is usually the result of calling `frame.insert` many times, which has poor performance.  Consider joining all columns at once using pd.concat(axis=1) instead. To get a de-fragmented frame, use `newframe = frame.copy()`\n",
            "DataFrame is highly fragmented.  This is usually the result of calling `frame.insert` many times, which has poor performance.  Consider joining all columns at once using pd.concat(axis=1) instead. To get a de-fragmented frame, use `newframe = frame.copy()`\n",
            "DataFrame is highly fragmented.  This is usually the result of calling `frame.insert` many times, which has poor performance.  Consider joining all columns at once using pd.concat(axis=1) instead. To get a de-fragmented frame, use `newframe = frame.copy()`\n",
            "DataFrame is highly fragmented.  This is usually the result of calling `frame.insert` many times, which has poor performance.  Consider joining all columns at once using pd.concat(axis=1) instead. To get a de-fragmented frame, use `newframe = frame.copy()`\n",
            "DataFrame is highly fragmented.  This is usually the result of calling `frame.insert` many times, which has poor performance.  Consider joining all columns at once using pd.concat(axis=1) instead. To get a de-fragmented frame, use `newframe = frame.copy()`\n",
            "DataFrame is highly fragmented.  This is usually the result of calling `frame.insert` many times, which has poor performance.  Consider joining all columns at once using pd.concat(axis=1) instead. To get a de-fragmented frame, use `newframe = frame.copy()`\n",
            "DataFrame is highly fragmented.  This is usually the result of calling `frame.insert` many times, which has poor performance.  Consider joining all columns at once using pd.concat(axis=1) instead. To get a de-fragmented frame, use `newframe = frame.copy()`\n",
            "DataFrame is highly fragmented.  This is usually the result of calling `frame.insert` many times, which has poor performance.  Consider joining all columns at once using pd.concat(axis=1) instead. To get a de-fragmented frame, use `newframe = frame.copy()`\n",
            "DataFrame is highly fragmented.  This is usually the result of calling `frame.insert` many times, which has poor performance.  Consider joining all columns at once using pd.concat(axis=1) instead. To get a de-fragmented frame, use `newframe = frame.copy()`\n",
            "DataFrame is highly fragmented.  This is usually the result of calling `frame.insert` many times, which has poor performance.  Consider joining all columns at once using pd.concat(axis=1) instead. To get a de-fragmented frame, use `newframe = frame.copy()`\n",
            "DataFrame is highly fragmented.  This is usually the result of calling `frame.insert` many times, which has poor performance.  Consider joining all columns at once using pd.concat(axis=1) instead. To get a de-fragmented frame, use `newframe = frame.copy()`\n",
            "DataFrame is highly fragmented.  This is usually the result of calling `frame.insert` many times, which has poor performance.  Consider joining all columns at once using pd.concat(axis=1) instead. To get a de-fragmented frame, use `newframe = frame.copy()`\n",
            "DataFrame is highly fragmented.  This is usually the result of calling `frame.insert` many times, which has poor performance.  Consider joining all columns at once using pd.concat(axis=1) instead. To get a de-fragmented frame, use `newframe = frame.copy()`\n",
            "DataFrame is highly fragmented.  This is usually the result of calling `frame.insert` many times, which has poor performance.  Consider joining all columns at once using pd.concat(axis=1) instead. To get a de-fragmented frame, use `newframe = frame.copy()`\n",
            "DataFrame is highly fragmented.  This is usually the result of calling `frame.insert` many times, which has poor performance.  Consider joining all columns at once using pd.concat(axis=1) instead. To get a de-fragmented frame, use `newframe = frame.copy()`\n",
            "DataFrame is highly fragmented.  This is usually the result of calling `frame.insert` many times, which has poor performance.  Consider joining all columns at once using pd.concat(axis=1) instead. To get a de-fragmented frame, use `newframe = frame.copy()`\n",
            "DataFrame is highly fragmented.  This is usually the result of calling `frame.insert` many times, which has poor performance.  Consider joining all columns at once using pd.concat(axis=1) instead. To get a de-fragmented frame, use `newframe = frame.copy()`\n",
            "DataFrame is highly fragmented.  This is usually the result of calling `frame.insert` many times, which has poor performance.  Consider joining all columns at once using pd.concat(axis=1) instead. To get a de-fragmented frame, use `newframe = frame.copy()`\n",
            "DataFrame is highly fragmented.  This is usually the result of calling `frame.insert` many times, which has poor performance.  Consider joining all columns at once using pd.concat(axis=1) instead. To get a de-fragmented frame, use `newframe = frame.copy()`\n",
            "DataFrame is highly fragmented.  This is usually the result of calling `frame.insert` many times, which has poor performance.  Consider joining all columns at once using pd.concat(axis=1) instead. To get a de-fragmented frame, use `newframe = frame.copy()`\n",
            "DataFrame is highly fragmented.  This is usually the result of calling `frame.insert` many times, which has poor performance.  Consider joining all columns at once using pd.concat(axis=1) instead. To get a de-fragmented frame, use `newframe = frame.copy()`\n",
            "DataFrame is highly fragmented.  This is usually the result of calling `frame.insert` many times, which has poor performance.  Consider joining all columns at once using pd.concat(axis=1) instead. To get a de-fragmented frame, use `newframe = frame.copy()`\n",
            "DataFrame is highly fragmented.  This is usually the result of calling `frame.insert` many times, which has poor performance.  Consider joining all columns at once using pd.concat(axis=1) instead. To get a de-fragmented frame, use `newframe = frame.copy()`\n",
            "DataFrame is highly fragmented.  This is usually the result of calling `frame.insert` many times, which has poor performance.  Consider joining all columns at once using pd.concat(axis=1) instead. To get a de-fragmented frame, use `newframe = frame.copy()`\n",
            "DataFrame is highly fragmented.  This is usually the result of calling `frame.insert` many times, which has poor performance.  Consider joining all columns at once using pd.concat(axis=1) instead. To get a de-fragmented frame, use `newframe = frame.copy()`\n",
            "DataFrame is highly fragmented.  This is usually the result of calling `frame.insert` many times, which has poor performance.  Consider joining all columns at once using pd.concat(axis=1) instead. To get a de-fragmented frame, use `newframe = frame.copy()`\n",
            "DataFrame is highly fragmented.  This is usually the result of calling `frame.insert` many times, which has poor performance.  Consider joining all columns at once using pd.concat(axis=1) instead. To get a de-fragmented frame, use `newframe = frame.copy()`\n",
            "DataFrame is highly fragmented.  This is usually the result of calling `frame.insert` many times, which has poor performance.  Consider joining all columns at once using pd.concat(axis=1) instead. To get a de-fragmented frame, use `newframe = frame.copy()`\n",
            "Passing unit-less datetime64 dtype to .astype is deprecated and will raise in a future version. Pass 'datetime64[ns]' instead\n",
            "DataFrame is highly fragmented.  This is usually the result of calling `frame.insert` many times, which has poor performance.  Consider joining all columns at once using pd.concat(axis=1) instead. To get a de-fragmented frame, use `newframe = frame.copy()`\n",
            "DataFrame is highly fragmented.  This is usually the result of calling `frame.insert` many times, which has poor performance.  Consider joining all columns at once using pd.concat(axis=1) instead. To get a de-fragmented frame, use `newframe = frame.copy()`\n",
            "DataFrame is highly fragmented.  This is usually the result of calling `frame.insert` many times, which has poor performance.  Consider joining all columns at once using pd.concat(axis=1) instead. To get a de-fragmented frame, use `newframe = frame.copy()`\n",
            "DataFrame is highly fragmented.  This is usually the result of calling `frame.insert` many times, which has poor performance.  Consider joining all columns at once using pd.concat(axis=1) instead. To get a de-fragmented frame, use `newframe = frame.copy()`\n",
            "DataFrame is highly fragmented.  This is usually the result of calling `frame.insert` many times, which has poor performance.  Consider joining all columns at once using pd.concat(axis=1) instead. To get a de-fragmented frame, use `newframe = frame.copy()`\n",
            "DataFrame is highly fragmented.  This is usually the result of calling `frame.insert` many times, which has poor performance.  Consider joining all columns at once using pd.concat(axis=1) instead. To get a de-fragmented frame, use `newframe = frame.copy()`\n",
            "DataFrame is highly fragmented.  This is usually the result of calling `frame.insert` many times, which has poor performance.  Consider joining all columns at once using pd.concat(axis=1) instead. To get a de-fragmented frame, use `newframe = frame.copy()`\n",
            "DataFrame is highly fragmented.  This is usually the result of calling `frame.insert` many times, which has poor performance.  Consider joining all columns at once using pd.concat(axis=1) instead. To get a de-fragmented frame, use `newframe = frame.copy()`\n",
            "DataFrame is highly fragmented.  This is usually the result of calling `frame.insert` many times, which has poor performance.  Consider joining all columns at once using pd.concat(axis=1) instead. To get a de-fragmented frame, use `newframe = frame.copy()`\n",
            "DataFrame is highly fragmented.  This is usually the result of calling `frame.insert` many times, which has poor performance.  Consider joining all columns at once using pd.concat(axis=1) instead. To get a de-fragmented frame, use `newframe = frame.copy()`\n",
            "DataFrame is highly fragmented.  This is usually the result of calling `frame.insert` many times, which has poor performance.  Consider joining all columns at once using pd.concat(axis=1) instead. To get a de-fragmented frame, use `newframe = frame.copy()`\n",
            "DataFrame is highly fragmented.  This is usually the result of calling `frame.insert` many times, which has poor performance.  Consider joining all columns at once using pd.concat(axis=1) instead. To get a de-fragmented frame, use `newframe = frame.copy()`\n",
            "DataFrame is highly fragmented.  This is usually the result of calling `frame.insert` many times, which has poor performance.  Consider joining all columns at once using pd.concat(axis=1) instead. To get a de-fragmented frame, use `newframe = frame.copy()`\n",
            "DataFrame is highly fragmented.  This is usually the result of calling `frame.insert` many times, which has poor performance.  Consider joining all columns at once using pd.concat(axis=1) instead. To get a de-fragmented frame, use `newframe = frame.copy()`\n",
            "DataFrame is highly fragmented.  This is usually the result of calling `frame.insert` many times, which has poor performance.  Consider joining all columns at once using pd.concat(axis=1) instead. To get a de-fragmented frame, use `newframe = frame.copy()`\n",
            "DataFrame is highly fragmented.  This is usually the result of calling `frame.insert` many times, which has poor performance.  Consider joining all columns at once using pd.concat(axis=1) instead. To get a de-fragmented frame, use `newframe = frame.copy()`\n",
            "DataFrame is highly fragmented.  This is usually the result of calling `frame.insert` many times, which has poor performance.  Consider joining all columns at once using pd.concat(axis=1) instead. To get a de-fragmented frame, use `newframe = frame.copy()`\n",
            "DataFrame is highly fragmented.  This is usually the result of calling `frame.insert` many times, which has poor performance.  Consider joining all columns at once using pd.concat(axis=1) instead. To get a de-fragmented frame, use `newframe = frame.copy()`\n",
            "DataFrame is highly fragmented.  This is usually the result of calling `frame.insert` many times, which has poor performance.  Consider joining all columns at once using pd.concat(axis=1) instead. To get a de-fragmented frame, use `newframe = frame.copy()`\n",
            "DataFrame is highly fragmented.  This is usually the result of calling `frame.insert` many times, which has poor performance.  Consider joining all columns at once using pd.concat(axis=1) instead. To get a de-fragmented frame, use `newframe = frame.copy()`\n",
            "DataFrame is highly fragmented.  This is usually the result of calling `frame.insert` many times, which has poor performance.  Consider joining all columns at once using pd.concat(axis=1) instead. To get a de-fragmented frame, use `newframe = frame.copy()`\n",
            "DataFrame is highly fragmented.  This is usually the result of calling `frame.insert` many times, which has poor performance.  Consider joining all columns at once using pd.concat(axis=1) instead. To get a de-fragmented frame, use `newframe = frame.copy()`\n",
            "DataFrame is highly fragmented.  This is usually the result of calling `frame.insert` many times, which has poor performance.  Consider joining all columns at once using pd.concat(axis=1) instead. To get a de-fragmented frame, use `newframe = frame.copy()`\n",
            "DataFrame is highly fragmented.  This is usually the result of calling `frame.insert` many times, which has poor performance.  Consider joining all columns at once using pd.concat(axis=1) instead. To get a de-fragmented frame, use `newframe = frame.copy()`\n",
            "DataFrame is highly fragmented.  This is usually the result of calling `frame.insert` many times, which has poor performance.  Consider joining all columns at once using pd.concat(axis=1) instead. To get a de-fragmented frame, use `newframe = frame.copy()`\n",
            "DataFrame is highly fragmented.  This is usually the result of calling `frame.insert` many times, which has poor performance.  Consider joining all columns at once using pd.concat(axis=1) instead. To get a de-fragmented frame, use `newframe = frame.copy()`\n",
            "DataFrame is highly fragmented.  This is usually the result of calling `frame.insert` many times, which has poor performance.  Consider joining all columns at once using pd.concat(axis=1) instead. To get a de-fragmented frame, use `newframe = frame.copy()`\n",
            "DataFrame is highly fragmented.  This is usually the result of calling `frame.insert` many times, which has poor performance.  Consider joining all columns at once using pd.concat(axis=1) instead. To get a de-fragmented frame, use `newframe = frame.copy()`\n"
          ]
        }
      ]
    },
    {
      "cell_type": "code",
      "source": [
        "rf = RandomForestClassifier(n_estimators=1000, criterion='log_loss', max_depth=10, min_samples_split=50, min_samples_leaf=25,\n",
        "                            max_features='sqrt', max_leaf_nodes=None, min_impurity_decrease=0.0, bootstrap=True, oob_score=True, n_jobs=-1, random_state=1000,\n",
        "                            verbose=3, warm_start=False)\n",
        "rf.fit(df_train[features_list], df_train['churn'])"
      ],
      "metadata": {
        "id": "JCHhDx1BckQq",
        "colab": {
          "base_uri": "https://localhost:8080/",
          "height": 1000
        },
        "outputId": "82d58430-36d6-4ba3-bbb5-f1a5c2019d33"
      },
      "execution_count": 39,
      "outputs": [
        {
          "output_type": "stream",
          "name": "stderr",
          "text": [
            "[Parallel(n_jobs=-1)]: Using backend ThreadingBackend with 2 concurrent workers.\n"
          ]
        },
        {
          "output_type": "stream",
          "name": "stdout",
          "text": [
            "building tree 1 of 1000\n",
            "building tree 2 of 1000\n",
            "building tree 3 of 1000\n",
            "building tree 4 of 1000\n",
            "building tree 5 of 1000\n",
            "building tree 6 of 1000\n",
            "building tree 7 of 1000\n",
            "building tree 8 of 1000\n",
            "building tree 9 of 1000\n",
            "building tree 10 of 1000\n",
            "building tree 11 of 1000\n",
            "building tree 12 of 1000\n",
            "building tree 13 of 1000\n",
            "building tree 14 of 1000\n",
            "building tree 15 of 1000\n",
            "building tree 16 of 1000\n",
            "building tree 17 of 1000\n",
            "building tree 18 of 1000\n",
            "building tree 19 of 1000\n",
            "building tree 20 of 1000\n",
            "building tree 21 of 1000\n",
            "building tree 22 of 1000\n",
            "building tree 23 of 1000\n",
            "building tree 24 of 1000\n",
            "building tree 25 of 1000\n",
            "building tree 26 of 1000\n",
            "building tree 27 of 1000\n",
            "building tree 28 of 1000\n",
            "building tree 29 of 1000\n"
          ]
        },
        {
          "output_type": "stream",
          "name": "stderr",
          "text": [
            "[Parallel(n_jobs=-1)]: Done  28 tasks      | elapsed:    6.3s\n"
          ]
        },
        {
          "output_type": "stream",
          "name": "stdout",
          "text": [
            "building tree 30 of 1000\n",
            "building tree 31 of 1000\n",
            "building tree 32 of 1000\n",
            "building tree 33 of 1000\n",
            "building tree 34 of 1000\n",
            "building tree 35 of 1000\n",
            "building tree 36 of 1000\n",
            "building tree 37 of 1000\n",
            "building tree 38 of 1000\n",
            "building tree 39 of 1000\n",
            "building tree 40 of 1000\n",
            "building tree 41 of 1000\n",
            "building tree 42 of 1000\n",
            "building tree 43 of 1000\n",
            "building tree 44 of 1000\n",
            "building tree 45 of 1000building tree 46 of 1000\n",
            "\n",
            "building tree 47 of 1000\n",
            "building tree 48 of 1000\n",
            "building tree 49 of 1000\n",
            "building tree 50 of 1000\n",
            "building tree 51 of 1000\n",
            "building tree 52 of 1000\n",
            "building tree 53 of 1000\n",
            "building tree 54 of 1000\n",
            "building tree 55 of 1000\n",
            "building tree 56 of 1000\n",
            "building tree 57 of 1000\n",
            "building tree 58 of 1000\n",
            "building tree 59 of 1000\n",
            "building tree 60 of 1000\n",
            "building tree 61 of 1000\n",
            "building tree 62 of 1000\n",
            "building tree 63 of 1000\n",
            "building tree 64 of 1000\n",
            "building tree 65 of 1000\n",
            "building tree 66 of 1000\n",
            "building tree 67 of 1000\n",
            "building tree 68 of 1000\n",
            "building tree 69 of 1000\n",
            "building tree 70 of 1000\n",
            "building tree 71 of 1000\n",
            "building tree 72 of 1000\n",
            "building tree 73 of 1000\n",
            "building tree 74 of 1000\n",
            "building tree 75 of 1000\n",
            "building tree 76 of 1000\n",
            "building tree 77 of 1000\n",
            "building tree 78 of 1000\n",
            "building tree 79 of 1000\n",
            "building tree 80 of 1000\n",
            "building tree 81 of 1000\n",
            "building tree 82 of 1000\n",
            "building tree 83 of 1000\n",
            "building tree 84 of 1000\n",
            "building tree 85 of 1000\n",
            "building tree 86 of 1000\n",
            "building tree 87 of 1000\n",
            "building tree 88 of 1000\n",
            "building tree 89 of 1000\n",
            "building tree 90 of 1000\n",
            "building tree 91 of 1000\n",
            "building tree 92 of 1000\n",
            "building tree 93 of 1000\n",
            "building tree 94 of 1000\n",
            "building tree 95 of 1000\n",
            "building tree 96 of 1000\n",
            "building tree 97 of 1000\n",
            "building tree 98 of 1000\n",
            "building tree 99 of 1000\n",
            "building tree 100 of 1000\n",
            "building tree 101 of 1000\n",
            "building tree 102 of 1000\n",
            "building tree 103 of 1000\n",
            "building tree 104 of 1000\n",
            "building tree 105 of 1000\n",
            "building tree 106 of 1000\n",
            "building tree 107 of 1000\n",
            "building tree 108 of 1000\n",
            "building tree 109 of 1000\n",
            "building tree 110 of 1000\n",
            "building tree 111 of 1000\n",
            "building tree 112 of 1000\n",
            "building tree 113 of 1000\n",
            "building tree 114 of 1000\n",
            "building tree 115 of 1000\n",
            "building tree 116 of 1000\n",
            "building tree 117 of 1000\n",
            "building tree 118 of 1000\n",
            "building tree 119 of 1000\n",
            "building tree 120 of 1000\n",
            "building tree 121 of 1000\n",
            "building tree 122 of 1000\n",
            "building tree 123 of 1000\n",
            "building tree 124 of 1000\n",
            "building tree 125 of 1000\n"
          ]
        },
        {
          "output_type": "stream",
          "name": "stderr",
          "text": [
            "[Parallel(n_jobs=-1)]: Done 124 tasks      | elapsed:   33.5s\n"
          ]
        },
        {
          "output_type": "stream",
          "name": "stdout",
          "text": [
            "building tree 126 of 1000\n",
            "building tree 127 of 1000\n",
            "building tree 128 of 1000\n",
            "building tree 129 of 1000\n",
            "building tree 130 of 1000\n",
            "building tree 131 of 1000\n",
            "building tree 132 of 1000\n",
            "building tree 133 of 1000\n",
            "building tree 134 of 1000\n",
            "building tree 135 of 1000\n",
            "building tree 136 of 1000\n",
            "building tree 137 of 1000\n",
            "building tree 138 of 1000\n",
            "building tree 139 of 1000\n",
            "building tree 140 of 1000\n",
            "building tree 141 of 1000\n",
            "building tree 142 of 1000\n",
            "building tree 143 of 1000\n",
            "building tree 144 of 1000\n",
            "building tree 145 of 1000\n",
            "building tree 146 of 1000\n",
            "building tree 147 of 1000\n",
            "building tree 148 of 1000\n",
            "building tree 149 of 1000\n",
            "building tree 150 of 1000\n",
            "building tree 151 of 1000\n",
            "building tree 152 of 1000\n",
            "building tree 153 of 1000\n",
            "building tree 154 of 1000\n",
            "building tree 155 of 1000\n",
            "building tree 156 of 1000\n",
            "building tree 157 of 1000\n",
            "building tree 158 of 1000\n",
            "building tree 159 of 1000\n",
            "building tree 160 of 1000\n",
            "building tree 161 of 1000\n",
            "building tree 162 of 1000\n",
            "building tree 163 of 1000\n",
            "building tree 164 of 1000\n",
            "building tree 165 of 1000\n",
            "building tree 166 of 1000\n",
            "building tree 167 of 1000\n",
            "building tree 168 of 1000\n",
            "building tree 169 of 1000\n",
            "building tree 170 of 1000\n",
            "building tree 171 of 1000\n",
            "building tree 172 of 1000\n",
            "building tree 173 of 1000\n",
            "building tree 174 of 1000\n",
            "building tree 175 of 1000\n",
            "building tree 176 of 1000\n",
            "building tree 177 of 1000\n",
            "building tree 178 of 1000\n",
            "building tree 179 of 1000\n",
            "building tree 180 of 1000\n",
            "building tree 181 of 1000\n",
            "building tree 182 of 1000\n",
            "building tree 183 of 1000\n",
            "building tree 184 of 1000\n",
            "building tree 185 of 1000\n",
            "building tree 186 of 1000\n",
            "building tree 187 of 1000\n",
            "building tree 188 of 1000\n",
            "building tree 189 of 1000\n",
            "building tree 190 of 1000\n",
            "building tree 191 of 1000\n",
            "building tree 192 of 1000\n",
            "building tree 193 of 1000\n",
            "building tree 194 of 1000\n",
            "building tree 195 of 1000\n",
            "building tree 196 of 1000\n",
            "building tree 197 of 1000\n",
            "building tree 198 of 1000\n",
            "building tree 199 of 1000\n",
            "building tree 200 of 1000\n",
            "building tree 201 of 1000\n",
            "building tree 202 of 1000\n",
            "building tree 203 of 1000\n",
            "building tree 204 of 1000\n",
            "building tree 205 of 1000\n",
            "building tree 206 of 1000\n",
            "building tree 207 of 1000\n",
            "building tree 208 of 1000\n",
            "building tree 209 of 1000\n",
            "building tree 210 of 1000\n",
            "building tree 211 of 1000\n",
            "building tree 212 of 1000\n",
            "building tree 213 of 1000\n",
            "building tree 214 of 1000\n",
            "building tree 215 of 1000\n",
            "building tree 216 of 1000\n",
            "building tree 217 of 1000\n",
            "building tree 218 of 1000\n",
            "building tree 219 of 1000\n",
            "building tree 220 of 1000\n",
            "building tree 221 of 1000\n",
            "building tree 222 of 1000\n",
            "building tree 223 of 1000\n",
            "building tree 224 of 1000\n",
            "building tree 225 of 1000\n",
            "building tree 226 of 1000\n",
            "building tree 227 of 1000\n",
            "building tree 228 of 1000\n",
            "building tree 229 of 1000\n",
            "building tree 230 of 1000\n",
            "building tree 231 of 1000\n",
            "building tree 232 of 1000\n",
            "building tree 233 of 1000\n",
            "building tree 234 of 1000\n",
            "building tree 235 of 1000\n",
            "building tree 236 of 1000\n",
            "building tree 237 of 1000\n",
            "building tree 238 of 1000\n",
            "building tree 239 of 1000\n",
            "building tree 240 of 1000\n",
            "building tree 241 of 1000\n",
            "building tree 242 of 1000\n",
            "building tree 243 of 1000\n",
            "building tree 244 of 1000\n",
            "building tree 245 of 1000\n",
            "building tree 246 of 1000\n",
            "building tree 247 of 1000\n",
            "building tree 248 of 1000\n",
            "building tree 249 of 1000\n",
            "building tree 250 of 1000\n",
            "building tree 251 of 1000\n",
            "building tree 252 of 1000\n",
            "building tree 253 of 1000\n",
            "building tree 254 of 1000\n",
            "building tree 255 of 1000\n",
            "building tree 256 of 1000\n",
            "building tree 257 of 1000\n",
            "building tree 258 of 1000\n",
            "building tree 259 of 1000\n",
            "building tree 260 of 1000\n",
            "building tree 261 of 1000\n",
            "building tree 262 of 1000\n",
            "building tree 263 of 1000\n",
            "building tree 264 of 1000\n",
            "building tree 265 of 1000\n",
            "building tree 266 of 1000\n",
            "building tree 267 of 1000\n",
            "building tree 268 of 1000\n",
            "building tree 269 of 1000\n",
            "building tree 270 of 1000\n",
            "building tree 271 of 1000\n",
            "building tree 272 of 1000\n",
            "building tree 273 of 1000\n",
            "building tree 274 of 1000\n",
            "building tree 275 of 1000\n",
            "building tree 276 of 1000\n",
            "building tree 277 of 1000\n",
            "building tree 278 of 1000\n",
            "building tree 279 of 1000\n",
            "building tree 280 of 1000\n",
            "building tree 281 of 1000\n",
            "building tree 282 of 1000\n",
            "building tree 283 of 1000\n",
            "building tree 284 of 1000\n",
            "building tree 285 of 1000\n"
          ]
        },
        {
          "output_type": "stream",
          "name": "stderr",
          "text": [
            "[Parallel(n_jobs=-1)]: Done 284 tasks      | elapsed:   59.1s\n"
          ]
        },
        {
          "output_type": "stream",
          "name": "stdout",
          "text": [
            "building tree 286 of 1000\n",
            "building tree 287 of 1000\n",
            "building tree 288 of 1000\n",
            "building tree 289 of 1000\n",
            "building tree 290 of 1000\n",
            "building tree 291 of 1000\n",
            "building tree 292 of 1000\n",
            "building tree 293 of 1000\n",
            "building tree 294 of 1000\n",
            "building tree 295 of 1000\n",
            "building tree 296 of 1000\n",
            "building tree 297 of 1000\n",
            "building tree 298 of 1000\n",
            "building tree 299 of 1000\n",
            "building tree 300 of 1000\n",
            "building tree 301 of 1000\n",
            "building tree 302 of 1000\n",
            "building tree 303 of 1000\n",
            "building tree 304 of 1000\n",
            "building tree 305 of 1000\n",
            "building tree 306 of 1000\n",
            "building tree 307 of 1000\n",
            "building tree 308 of 1000\n",
            "building tree 309 of 1000\n",
            "building tree 310 of 1000\n",
            "building tree 311 of 1000\n",
            "building tree 312 of 1000\n",
            "building tree 313 of 1000\n",
            "building tree 314 of 1000\n",
            "building tree 315 of 1000\n",
            "building tree 316 of 1000\n",
            "building tree 317 of 1000\n",
            "building tree 318 of 1000\n",
            "building tree 319 of 1000\n",
            "building tree 320 of 1000\n",
            "building tree 321 of 1000\n",
            "building tree 322 of 1000\n",
            "building tree 323 of 1000\n",
            "building tree 324 of 1000\n",
            "building tree 325 of 1000\n",
            "building tree 326 of 1000\n",
            "building tree 327 of 1000\n",
            "building tree 328 of 1000\n",
            "building tree 329 of 1000\n",
            "building tree 330 of 1000\n",
            "building tree 331 of 1000\n",
            "building tree 332 of 1000\n",
            "building tree 333 of 1000\n",
            "building tree 334 of 1000\n",
            "building tree 335 of 1000\n",
            "building tree 336 of 1000\n",
            "building tree 337 of 1000\n",
            "building tree 338 of 1000\n",
            "building tree 339 of 1000\n",
            "building tree 340 of 1000\n",
            "building tree 341 of 1000\n",
            "building tree 342 of 1000\n",
            "building tree 343 of 1000\n",
            "building tree 344 of 1000\n",
            "building tree 345 of 1000\n",
            "building tree 346 of 1000\n",
            "building tree 347 of 1000\n",
            "building tree 348 of 1000\n",
            "building tree 349 of 1000\n",
            "building tree 350 of 1000\n",
            "building tree 351 of 1000\n",
            "building tree 352 of 1000\n",
            "building tree 353 of 1000\n",
            "building tree 354 of 1000\n",
            "building tree 355 of 1000\n",
            "building tree 356 of 1000\n",
            "building tree 357 of 1000\n",
            "building tree 358 of 1000\n",
            "building tree 359 of 1000\n",
            "building tree 360 of 1000\n",
            "building tree 361 of 1000\n",
            "building tree 362 of 1000\n",
            "building tree 363 of 1000\n",
            "building tree 364 of 1000\n",
            "building tree 365 of 1000\n",
            "building tree 366 of 1000\n",
            "building tree 367 of 1000\n",
            "building tree 368 of 1000\n",
            "building tree 369 of 1000\n",
            "building tree 370 of 1000\n",
            "building tree 371 of 1000\n",
            "building tree 372 of 1000\n",
            "building tree 373 of 1000\n",
            "building tree 374 of 1000\n",
            "building tree 375 of 1000\n",
            "building tree 376 of 1000\n",
            "building tree 377 of 1000\n",
            "building tree 378 of 1000\n",
            "building tree 379 of 1000\n",
            "building tree 380 of 1000\n",
            "building tree 381 of 1000\n",
            "building tree 382 of 1000\n",
            "building tree 383 of 1000\n",
            "building tree 384 of 1000\n",
            "building tree 385 of 1000\n",
            "building tree 386 of 1000\n",
            "building tree 387 of 1000\n",
            "building tree 388 of 1000\n",
            "building tree 389 of 1000\n",
            "building tree 390 of 1000\n",
            "building tree 391 of 1000\n",
            "building tree 392 of 1000\n",
            "building tree 393 of 1000\n",
            "building tree 394 of 1000\n",
            "building tree 395 of 1000\n",
            "building tree 396 of 1000\n",
            "building tree 397 of 1000\n",
            "building tree 398 of 1000\n",
            "building tree 399 of 1000\n",
            "building tree 400 of 1000\n",
            "building tree 401 of 1000\n",
            "building tree 402 of 1000\n",
            "building tree 403 of 1000\n",
            "building tree 404 of 1000\n",
            "building tree 405 of 1000\n",
            "building tree 406 of 1000\n",
            "building tree 407 of 1000\n",
            "building tree 408 of 1000\n",
            "building tree 409 of 1000\n",
            "building tree 410 of 1000\n",
            "building tree 411 of 1000\n",
            "building tree 412 of 1000\n",
            "building tree 413 of 1000\n",
            "building tree 414 of 1000\n",
            "building tree 415 of 1000\n",
            "building tree 416 of 1000\n",
            "building tree 417 of 1000\n",
            "building tree 418 of 1000\n",
            "building tree 419 of 1000\n",
            "building tree 420 of 1000\n",
            "building tree 421 of 1000\n",
            "building tree 422 of 1000\n",
            "building tree 423 of 1000\n",
            "building tree 424 of 1000\n",
            "building tree 425 of 1000\n",
            "building tree 426 of 1000\n",
            "building tree 427 of 1000\n",
            "building tree 428 of 1000\n",
            "building tree 429 of 1000\n",
            "building tree 430 of 1000\n",
            "building tree 431 of 1000\n",
            "building tree 432 of 1000\n",
            "building tree 433 of 1000\n",
            "building tree 434 of 1000\n",
            "building tree 435 of 1000\n",
            "building tree 436 of 1000\n",
            "building tree 437 of 1000\n",
            "building tree 438 of 1000\n",
            "building tree 439 of 1000\n",
            "building tree 440 of 1000\n",
            "building tree 441 of 1000\n",
            "building tree 442 of 1000\n",
            "building tree 443 of 1000\n",
            "building tree 444 of 1000\n",
            "building tree 445 of 1000\n",
            "building tree 446 of 1000\n",
            "building tree 447 of 1000\n",
            "building tree 448 of 1000\n",
            "building tree 449 of 1000\n",
            "building tree 450 of 1000\n",
            "building tree 451 of 1000\n",
            "building tree 452 of 1000\n",
            "building tree 453 of 1000\n",
            "building tree 454 of 1000\n",
            "building tree 455 of 1000\n",
            "building tree 456 of 1000\n",
            "building tree 457 of 1000\n",
            "building tree 458 of 1000\n",
            "building tree 459 of 1000\n",
            "building tree 460 of 1000\n",
            "building tree 461 of 1000\n",
            "building tree 462 of 1000\n",
            "building tree 463 of 1000\n",
            "building tree 464 of 1000\n",
            "building tree 465 of 1000\n",
            "building tree 466 of 1000\n",
            "building tree 467 of 1000\n",
            "building tree 468 of 1000\n",
            "building tree 469 of 1000\n",
            "building tree 470 of 1000\n",
            "building tree 471 of 1000\n",
            "building tree 472 of 1000\n",
            "building tree 473 of 1000\n",
            "building tree 474 of 1000\n",
            "building tree 475 of 1000\n",
            "building tree 476 of 1000\n",
            "building tree 477 of 1000\n",
            "building tree 478 of 1000\n",
            "building tree 479 of 1000\n",
            "building tree 480 of 1000\n",
            "building tree 481 of 1000\n",
            "building tree 482 of 1000\n",
            "building tree 483 of 1000\n",
            "building tree 484 of 1000\n",
            "building tree 485 of 1000\n",
            "building tree 486 of 1000\n",
            "building tree 487 of 1000\n",
            "building tree 488 of 1000\n",
            "building tree 489 of 1000\n",
            "building tree 490 of 1000\n",
            "building tree 491 of 1000\n",
            "building tree 492 of 1000\n",
            "building tree 493 of 1000\n",
            "building tree 494 of 1000\n",
            "building tree 495 of 1000\n",
            "building tree 496 of 1000\n",
            "building tree 497 of 1000\n",
            "building tree 498 of 1000\n",
            "building tree 499 of 1000\n",
            "building tree 500 of 1000\n",
            "building tree 501 of 1000\n",
            "building tree 502 of 1000\n",
            "building tree 503 of 1000\n",
            "building tree 504 of 1000\n",
            "building tree 505 of 1000\n",
            "building tree 506 of 1000\n",
            "building tree 507 of 1000\n",
            "building tree 508 of 1000\n",
            "building tree 509 of 1000\n"
          ]
        },
        {
          "output_type": "stream",
          "name": "stderr",
          "text": [
            "[Parallel(n_jobs=-1)]: Done 508 tasks      | elapsed:  1.5min\n"
          ]
        },
        {
          "output_type": "stream",
          "name": "stdout",
          "text": [
            "building tree 510 of 1000\n",
            "building tree 511 of 1000\n",
            "building tree 512 of 1000\n",
            "building tree 513 of 1000\n",
            "building tree 514 of 1000\n",
            "building tree 515 of 1000\n",
            "building tree 516 of 1000\n",
            "building tree 517 of 1000\n",
            "building tree 518 of 1000\n",
            "building tree 519 of 1000\n",
            "building tree 520 of 1000\n",
            "building tree 521 of 1000\n",
            "building tree 522 of 1000\n",
            "building tree 523 of 1000\n",
            "building tree 524 of 1000\n",
            "building tree 525 of 1000\n",
            "building tree 526 of 1000\n",
            "building tree 527 of 1000\n",
            "building tree 528 of 1000\n",
            "building tree 529 of 1000\n",
            "building tree 530 of 1000\n",
            "building tree 531 of 1000\n",
            "building tree 532 of 1000\n",
            "building tree 533 of 1000\n",
            "building tree 534 of 1000\n",
            "building tree 535 of 1000\n",
            "building tree 536 of 1000\n",
            "building tree 537 of 1000\n",
            "building tree 538 of 1000\n",
            "building tree 539 of 1000\n",
            "building tree 540 of 1000\n",
            "building tree 541 of 1000\n",
            "building tree 542 of 1000\n",
            "building tree 543 of 1000\n",
            "building tree 544 of 1000\n",
            "building tree 545 of 1000\n",
            "building tree 546 of 1000\n",
            "building tree 547 of 1000\n",
            "building tree 548 of 1000\n",
            "building tree 549 of 1000\n",
            "building tree 550 of 1000\n",
            "building tree 551 of 1000\n",
            "building tree 552 of 1000\n",
            "building tree 553 of 1000\n",
            "building tree 554 of 1000\n",
            "building tree 555 of 1000\n",
            "building tree 556 of 1000\n",
            "building tree 557 of 1000\n",
            "building tree 558 of 1000\n",
            "building tree 559 of 1000\n",
            "building tree 560 of 1000\n",
            "building tree 561 of 1000\n",
            "building tree 562 of 1000\n",
            "building tree 563 of 1000\n",
            "building tree 564 of 1000\n",
            "building tree 565 of 1000\n",
            "building tree 566 of 1000\n",
            "building tree 567 of 1000\n",
            "building tree 568 of 1000\n",
            "building tree 569 of 1000\n",
            "building tree 570 of 1000\n",
            "building tree 571 of 1000\n",
            "building tree 572 of 1000\n",
            "building tree 573 of 1000\n",
            "building tree 574 of 1000\n",
            "building tree 575 of 1000\n",
            "building tree 576 of 1000\n",
            "building tree 577 of 1000\n",
            "building tree 578 of 1000\n",
            "building tree 579 of 1000\n",
            "building tree 580 of 1000\n",
            "building tree 581 of 1000\n",
            "building tree 582 of 1000\n",
            "building tree 583 of 1000\n",
            "building tree 584 of 1000\n",
            "building tree 585 of 1000\n",
            "building tree 586 of 1000\n",
            "building tree 587 of 1000\n",
            "building tree 588 of 1000\n",
            "building tree 589 of 1000\n",
            "building tree 590 of 1000\n",
            "building tree 591 of 1000\n",
            "building tree 592 of 1000\n",
            "building tree 593 of 1000\n",
            "building tree 594 of 1000\n",
            "building tree 595 of 1000\n",
            "building tree 596 of 1000\n",
            "building tree 597 of 1000\n",
            "building tree 598 of 1000\n",
            "building tree 599 of 1000\n",
            "building tree 600 of 1000\n",
            "building tree 601 of 1000\n",
            "building tree 602 of 1000\n",
            "building tree 603 of 1000\n",
            "building tree 604 of 1000\n",
            "building tree 605 of 1000\n",
            "building tree 606 of 1000\n",
            "building tree 607 of 1000\n",
            "building tree 608 of 1000\n",
            "building tree 609 of 1000\n",
            "building tree 610 of 1000\n",
            "building tree 611 of 1000\n",
            "building tree 612 of 1000\n",
            "building tree 613 of 1000\n",
            "building tree 614 of 1000\n",
            "building tree 615 of 1000\n",
            "building tree 616 of 1000\n",
            "building tree 617 of 1000\n",
            "building tree 618 of 1000\n",
            "building tree 619 of 1000\n",
            "building tree 620 of 1000\n",
            "building tree 621 of 1000\n",
            "building tree 622 of 1000\n",
            "building tree 623 of 1000\n",
            "building tree 624 of 1000\n",
            "building tree 625 of 1000\n",
            "building tree 626 of 1000\n",
            "building tree 627 of 1000\n",
            "building tree 628 of 1000\n",
            "building tree 629 of 1000\n",
            "building tree 630 of 1000\n",
            "building tree 631 of 1000\n",
            "building tree 632 of 1000\n",
            "building tree 633 of 1000\n",
            "building tree 634 of 1000\n",
            "building tree 635 of 1000\n",
            "building tree 636 of 1000\n",
            "building tree 637 of 1000\n",
            "building tree 638 of 1000\n",
            "building tree 639 of 1000\n",
            "building tree 640 of 1000\n",
            "building tree 641 of 1000\n",
            "building tree 642 of 1000\n",
            "building tree 643 of 1000\n",
            "building tree 644 of 1000\n",
            "building tree 645 of 1000\n",
            "building tree 646 of 1000\n",
            "building tree 647 of 1000\n",
            "building tree 648 of 1000\n",
            "building tree 649 of 1000\n",
            "building tree 650 of 1000\n",
            "building tree 651 of 1000\n",
            "building tree 652 of 1000\n",
            "building tree 653 of 1000\n",
            "building tree 654 of 1000\n",
            "building tree 655 of 1000\n",
            "building tree 656 of 1000\n",
            "building tree 657 of 1000\n",
            "building tree 658 of 1000\n",
            "building tree 659 of 1000\n",
            "building tree 660 of 1000\n",
            "building tree 661 of 1000\n",
            "building tree 662 of 1000\n",
            "building tree 663 of 1000\n",
            "building tree 664 of 1000\n",
            "building tree 665 of 1000\n",
            "building tree 666 of 1000\n",
            "building tree 667 of 1000\n",
            "building tree 668 of 1000\n",
            "building tree 669 of 1000\n",
            "building tree 670 of 1000\n",
            "building tree 671 of 1000\n",
            "building tree 672 of 1000\n",
            "building tree 673 of 1000\n",
            "building tree 674 of 1000\n",
            "building tree 675 of 1000\n",
            "building tree 676 of 1000\n",
            "building tree 677 of 1000\n",
            "building tree 678 of 1000\n",
            "building tree 679 of 1000\n",
            "building tree 680 of 1000\n",
            "building tree 681 of 1000\n",
            "building tree 682 of 1000\n",
            "building tree 683 of 1000\n",
            "building tree 684 of 1000\n",
            "building tree 685 of 1000\n",
            "building tree 686 of 1000\n",
            "building tree 687 of 1000\n",
            "building tree 688 of 1000\n",
            "building tree 689 of 1000\n",
            "building tree 690 of 1000\n",
            "building tree 691 of 1000\n",
            "building tree 692 of 1000\n",
            "building tree 693 of 1000\n",
            "building tree 694 of 1000\n",
            "building tree 695 of 1000\n",
            "building tree 696 of 1000\n",
            "building tree 697 of 1000\n",
            "building tree 698 of 1000\n",
            "building tree 699 of 1000\n",
            "building tree 700 of 1000\n",
            "building tree 701 of 1000\n",
            "building tree 702 of 1000\n",
            "building tree 703 of 1000\n",
            "building tree 704 of 1000\n",
            "building tree 705 of 1000\n",
            "building tree 706 of 1000\n",
            "building tree 707 of 1000\n",
            "building tree 708 of 1000\n",
            "building tree 709 of 1000\n",
            "building tree 710 of 1000\n",
            "building tree 711 of 1000\n",
            "building tree 712 of 1000\n",
            "building tree 713 of 1000\n",
            "building tree 714 of 1000\n",
            "building tree 715 of 1000\n",
            "building tree 716 of 1000\n",
            "building tree 717 of 1000\n",
            "building tree 718 of 1000\n",
            "building tree 719 of 1000\n",
            "building tree 720 of 1000\n",
            "building tree 721 of 1000\n",
            "building tree 722 of 1000\n",
            "building tree 723 of 1000\n",
            "building tree 724 of 1000\n",
            "building tree 725 of 1000\n",
            "building tree 726 of 1000\n",
            "building tree 727 of 1000\n",
            "building tree 728 of 1000\n",
            "building tree 729 of 1000\n",
            "building tree 730 of 1000\n",
            "building tree 731 of 1000\n",
            "building tree 732 of 1000\n",
            "building tree 733 of 1000\n",
            "building tree 734 of 1000\n",
            "building tree 735 of 1000\n",
            "building tree 736 of 1000\n",
            "building tree 737 of 1000\n",
            "building tree 738 of 1000\n",
            "building tree 739 of 1000\n",
            "building tree 740 of 1000\n",
            "building tree 741 of 1000\n",
            "building tree 742 of 1000\n",
            "building tree 743 of 1000\n",
            "building tree 744 of 1000\n",
            "building tree 745 of 1000\n",
            "building tree 746 of 1000\n",
            "building tree 747 of 1000\n",
            "building tree 748 of 1000\n",
            "building tree 749 of 1000\n",
            "building tree 750 of 1000\n",
            "building tree 751 of 1000\n",
            "building tree 752 of 1000\n",
            "building tree 753 of 1000\n",
            "building tree 754 of 1000\n",
            "building tree 755 of 1000\n",
            "building tree 756 of 1000\n",
            "building tree 757 of 1000\n",
            "building tree 758 of 1000\n",
            "building tree 759 of 1000\n",
            "building tree 760 of 1000\n",
            "building tree 761 of 1000\n",
            "building tree 762 of 1000\n",
            "building tree 763 of 1000\n",
            "building tree 764 of 1000\n",
            "building tree 765 of 1000\n",
            "building tree 766 of 1000\n",
            "building tree 767 of 1000\n",
            "building tree 768 of 1000\n",
            "building tree 769 of 1000\n",
            "building tree 770 of 1000\n",
            "building tree 771 of 1000\n",
            "building tree 772 of 1000\n",
            "building tree 773 of 1000\n",
            "building tree 774 of 1000\n",
            "building tree 775 of 1000\n",
            "building tree 776 of 1000\n",
            "building tree 777 of 1000\n",
            "building tree 778 of 1000\n",
            "building tree 779 of 1000\n",
            "building tree 780 of 1000\n",
            "building tree 781 of 1000\n",
            "building tree 782 of 1000\n",
            "building tree 783 of 1000\n",
            "building tree 784 of 1000\n",
            "building tree 785 of 1000\n",
            "building tree 786 of 1000\n",
            "building tree 787 of 1000\n",
            "building tree 788 of 1000\n",
            "building tree 789 of 1000\n",
            "building tree 790 of 1000\n",
            "building tree 791 of 1000\n",
            "building tree 792 of 1000\n",
            "building tree 793 of 1000\n",
            "building tree 794 of 1000\n",
            "building tree 795 of 1000\n",
            "building tree 796 of 1000\n",
            "building tree 797 of 1000\n"
          ]
        },
        {
          "output_type": "stream",
          "name": "stderr",
          "text": [
            "[Parallel(n_jobs=-1)]: Done 796 tasks      | elapsed:  2.2min\n"
          ]
        },
        {
          "output_type": "stream",
          "name": "stdout",
          "text": [
            "building tree 798 of 1000\n",
            "building tree 799 of 1000\n",
            "building tree 800 of 1000\n",
            "building tree 801 of 1000\n",
            "building tree 802 of 1000\n",
            "building tree 803 of 1000\n",
            "building tree 804 of 1000\n",
            "building tree 805 of 1000\n",
            "building tree 806 of 1000\n",
            "building tree 807 of 1000\n",
            "building tree 808 of 1000\n",
            "building tree 809 of 1000\n",
            "building tree 810 of 1000\n",
            "building tree 811 of 1000\n",
            "building tree 812 of 1000\n",
            "building tree 813 of 1000\n",
            "building tree 814 of 1000\n",
            "building tree 815 of 1000\n",
            "building tree 816 of 1000\n",
            "building tree 817 of 1000\n",
            "building tree 818 of 1000\n",
            "building tree 819 of 1000\n",
            "building tree 820 of 1000\n",
            "building tree 821 of 1000\n",
            "building tree 822 of 1000\n",
            "building tree 823 of 1000\n",
            "building tree 824 of 1000\n",
            "building tree 825 of 1000\n",
            "building tree 826 of 1000\n",
            "building tree 827 of 1000\n",
            "building tree 828 of 1000\n",
            "building tree 829 of 1000\n",
            "building tree 830 of 1000\n",
            "building tree 831 of 1000\n",
            "building tree 832 of 1000\n",
            "building tree 833 of 1000\n",
            "building tree 834 of 1000\n",
            "building tree 835 of 1000\n",
            "building tree 836 of 1000\n",
            "building tree 837 of 1000\n",
            "building tree 838 of 1000\n",
            "building tree 839 of 1000\n",
            "building tree 840 of 1000\n",
            "building tree 841 of 1000\n",
            "building tree 842 of 1000\n",
            "building tree 843 of 1000\n",
            "building tree 844 of 1000\n",
            "building tree 845 of 1000\n",
            "building tree 846 of 1000\n",
            "building tree 847 of 1000\n",
            "building tree 848 of 1000\n",
            "building tree 849 of 1000\n",
            "building tree 850 of 1000\n",
            "building tree 851 of 1000\n",
            "building tree 852 of 1000\n",
            "building tree 853 of 1000\n",
            "building tree 854 of 1000\n",
            "building tree 855 of 1000\n",
            "building tree 856 of 1000\n",
            "building tree 857 of 1000\n",
            "building tree 858 of 1000\n",
            "building tree 859 of 1000\n",
            "building tree 860 of 1000\n",
            "building tree 861 of 1000\n",
            "building tree 862 of 1000\n",
            "building tree 863 of 1000\n",
            "building tree 864 of 1000\n",
            "building tree 865 of 1000\n",
            "building tree 866 of 1000\n",
            "building tree 867 of 1000\n",
            "building tree 868 of 1000\n",
            "building tree 869 of 1000\n",
            "building tree 870 of 1000\n",
            "building tree 871 of 1000\n",
            "building tree 872 of 1000\n",
            "building tree 873 of 1000\n",
            "building tree 874 of 1000\n",
            "building tree 875 of 1000\n",
            "building tree 876 of 1000\n",
            "building tree 877 of 1000\n",
            "building tree 878 of 1000\n",
            "building tree 879 of 1000\n",
            "building tree 880 of 1000\n",
            "building tree 881 of 1000\n",
            "building tree 882 of 1000\n",
            "building tree 883 of 1000\n",
            "building tree 884 of 1000\n",
            "building tree 885 of 1000\n",
            "building tree 886 of 1000\n",
            "building tree 887 of 1000\n",
            "building tree 888 of 1000\n",
            "building tree 889 of 1000\n",
            "building tree 890 of 1000\n",
            "building tree 891 of 1000\n",
            "building tree 892 of 1000\n",
            "building tree 893 of 1000\n",
            "building tree 894 of 1000\n",
            "building tree 895 of 1000\n",
            "building tree 896 of 1000\n",
            "building tree 897 of 1000\n",
            "building tree 898 of 1000\n",
            "building tree 899 of 1000\n",
            "building tree 900 of 1000\n",
            "building tree 901 of 1000\n",
            "building tree 902 of 1000\n",
            "building tree 903 of 1000\n",
            "building tree 904 of 1000\n",
            "building tree 905 of 1000\n",
            "building tree 906 of 1000\n",
            "building tree 907 of 1000\n",
            "building tree 908 of 1000\n",
            "building tree 909 of 1000\n",
            "building tree 910 of 1000\n",
            "building tree 911 of 1000\n",
            "building tree 912 of 1000\n",
            "building tree 913 of 1000\n",
            "building tree 914 of 1000\n",
            "building tree 915 of 1000\n",
            "building tree 916 of 1000\n",
            "building tree 917 of 1000\n",
            "building tree 918 of 1000\n",
            "building tree 919 of 1000\n",
            "building tree 920 of 1000\n",
            "building tree 921 of 1000\n",
            "building tree 922 of 1000\n",
            "building tree 923 of 1000\n",
            "building tree 924 of 1000\n",
            "building tree 925 of 1000\n",
            "building tree 926 of 1000\n",
            "building tree 927 of 1000\n",
            "building tree 928 of 1000\n",
            "building tree 929 of 1000\n",
            "building tree 930 of 1000\n",
            "building tree 931 of 1000\n",
            "building tree 932 of 1000\n",
            "building tree 933 of 1000\n",
            "building tree 934 of 1000\n",
            "building tree 935 of 1000\n",
            "building tree 936 of 1000\n",
            "building tree 937 of 1000\n",
            "building tree 938 of 1000\n",
            "building tree 939 of 1000\n",
            "building tree 940 of 1000\n",
            "building tree 941 of 1000\n",
            "building tree 942 of 1000\n",
            "building tree 943 of 1000\n",
            "building tree 944 of 1000\n",
            "building tree 945 of 1000\n",
            "building tree 946 of 1000\n",
            "building tree 947 of 1000\n",
            "building tree 948 of 1000\n",
            "building tree 949 of 1000\n",
            "building tree 950 of 1000\n",
            "building tree 951 of 1000\n",
            "building tree 952 of 1000\n",
            "building tree 953 of 1000\n",
            "building tree 954 of 1000\n",
            "building tree 955 of 1000\n",
            "building tree 956 of 1000\n",
            "building tree 957 of 1000\n",
            "building tree 958 of 1000\n",
            "building tree 959 of 1000\n",
            "building tree 960 of 1000\n",
            "building tree 961 of 1000\n",
            "building tree 962 of 1000\n",
            "building tree 963 of 1000\n",
            "building tree 964 of 1000\n",
            "building tree 965 of 1000\n",
            "building tree 966 of 1000\n",
            "building tree 967 of 1000\n",
            "building tree 968 of 1000\n",
            "building tree 969 of 1000\n",
            "building tree 970 of 1000\n",
            "building tree 971 of 1000\n",
            "building tree 972 of 1000\n",
            "building tree 973 of 1000\n",
            "building tree 974 of 1000\n",
            "building tree 975 of 1000\n",
            "building tree 976 of 1000\n",
            "building tree 977 of 1000\n",
            "building tree 978 of 1000\n",
            "building tree 979 of 1000\n",
            "building tree 980 of 1000\n",
            "building tree 981 of 1000\n",
            "building tree 982 of 1000\n",
            "building tree 983 of 1000\n",
            "building tree 984 of 1000\n",
            "building tree 985 of 1000\n",
            "building tree 986 of 1000\n",
            "building tree 987 of 1000\n",
            "building tree 988 of 1000\n",
            "building tree 989 of 1000\n",
            "building tree 990 of 1000\n",
            "building tree 991 of 1000building tree 992 of 1000\n",
            "\n",
            "building tree 993 of 1000\n",
            "building tree 994 of 1000\n",
            "building tree 995 of 1000\n",
            "building tree 996 of 1000\n",
            "building tree 997 of 1000\n",
            "building tree 998 of 1000\n",
            "building tree 999 of 1000\n",
            "building tree 1000 of 1000\n"
          ]
        },
        {
          "output_type": "stream",
          "name": "stderr",
          "text": [
            "[Parallel(n_jobs=-1)]: Done 1000 out of 1000 | elapsed:  2.7min finished\n"
          ]
        },
        {
          "output_type": "execute_result",
          "data": {
            "text/plain": [
              "RandomForestClassifier(criterion='log_loss', max_depth=10, min_samples_leaf=25,\n",
              "                       min_samples_split=50, n_estimators=1000, n_jobs=-1,\n",
              "                       oob_score=True, random_state=1000, verbose=3)"
            ],
            "text/html": [
              "<style>#sk-container-id-1 {color: black;background-color: white;}#sk-container-id-1 pre{padding: 0;}#sk-container-id-1 div.sk-toggleable {background-color: white;}#sk-container-id-1 label.sk-toggleable__label {cursor: pointer;display: block;width: 100%;margin-bottom: 0;padding: 0.3em;box-sizing: border-box;text-align: center;}#sk-container-id-1 label.sk-toggleable__label-arrow:before {content: \"▸\";float: left;margin-right: 0.25em;color: #696969;}#sk-container-id-1 label.sk-toggleable__label-arrow:hover:before {color: black;}#sk-container-id-1 div.sk-estimator:hover label.sk-toggleable__label-arrow:before {color: black;}#sk-container-id-1 div.sk-toggleable__content {max-height: 0;max-width: 0;overflow: hidden;text-align: left;background-color: #f0f8ff;}#sk-container-id-1 div.sk-toggleable__content pre {margin: 0.2em;color: black;border-radius: 0.25em;background-color: #f0f8ff;}#sk-container-id-1 input.sk-toggleable__control:checked~div.sk-toggleable__content {max-height: 200px;max-width: 100%;overflow: auto;}#sk-container-id-1 input.sk-toggleable__control:checked~label.sk-toggleable__label-arrow:before {content: \"▾\";}#sk-container-id-1 div.sk-estimator input.sk-toggleable__control:checked~label.sk-toggleable__label {background-color: #d4ebff;}#sk-container-id-1 div.sk-label input.sk-toggleable__control:checked~label.sk-toggleable__label {background-color: #d4ebff;}#sk-container-id-1 input.sk-hidden--visually {border: 0;clip: rect(1px 1px 1px 1px);clip: rect(1px, 1px, 1px, 1px);height: 1px;margin: -1px;overflow: hidden;padding: 0;position: absolute;width: 1px;}#sk-container-id-1 div.sk-estimator {font-family: monospace;background-color: #f0f8ff;border: 1px dotted black;border-radius: 0.25em;box-sizing: border-box;margin-bottom: 0.5em;}#sk-container-id-1 div.sk-estimator:hover {background-color: #d4ebff;}#sk-container-id-1 div.sk-parallel-item::after {content: \"\";width: 100%;border-bottom: 1px solid gray;flex-grow: 1;}#sk-container-id-1 div.sk-label:hover label.sk-toggleable__label {background-color: #d4ebff;}#sk-container-id-1 div.sk-serial::before {content: \"\";position: absolute;border-left: 1px solid gray;box-sizing: border-box;top: 0;bottom: 0;left: 50%;z-index: 0;}#sk-container-id-1 div.sk-serial {display: flex;flex-direction: column;align-items: center;background-color: white;padding-right: 0.2em;padding-left: 0.2em;position: relative;}#sk-container-id-1 div.sk-item {position: relative;z-index: 1;}#sk-container-id-1 div.sk-parallel {display: flex;align-items: stretch;justify-content: center;background-color: white;position: relative;}#sk-container-id-1 div.sk-item::before, #sk-container-id-1 div.sk-parallel-item::before {content: \"\";position: absolute;border-left: 1px solid gray;box-sizing: border-box;top: 0;bottom: 0;left: 50%;z-index: -1;}#sk-container-id-1 div.sk-parallel-item {display: flex;flex-direction: column;z-index: 1;position: relative;background-color: white;}#sk-container-id-1 div.sk-parallel-item:first-child::after {align-self: flex-end;width: 50%;}#sk-container-id-1 div.sk-parallel-item:last-child::after {align-self: flex-start;width: 50%;}#sk-container-id-1 div.sk-parallel-item:only-child::after {width: 0;}#sk-container-id-1 div.sk-dashed-wrapped {border: 1px dashed gray;margin: 0 0.4em 0.5em 0.4em;box-sizing: border-box;padding-bottom: 0.4em;background-color: white;}#sk-container-id-1 div.sk-label label {font-family: monospace;font-weight: bold;display: inline-block;line-height: 1.2em;}#sk-container-id-1 div.sk-label-container {text-align: center;}#sk-container-id-1 div.sk-container {/* jupyter's `normalize.less` sets `[hidden] { display: none; }` but bootstrap.min.css set `[hidden] { display: none !important; }` so we also need the `!important` here to be able to override the default hidden behavior on the sphinx rendered scikit-learn.org. See: https://github.com/scikit-learn/scikit-learn/issues/21755 */display: inline-block !important;position: relative;}#sk-container-id-1 div.sk-text-repr-fallback {display: none;}</style><div id=\"sk-container-id-1\" class=\"sk-top-container\"><div class=\"sk-text-repr-fallback\"><pre>RandomForestClassifier(criterion=&#x27;log_loss&#x27;, max_depth=10, min_samples_leaf=25,\n",
              "                       min_samples_split=50, n_estimators=1000, n_jobs=-1,\n",
              "                       oob_score=True, random_state=1000, verbose=3)</pre><b>In a Jupyter environment, please rerun this cell to show the HTML representation or trust the notebook. <br />On GitHub, the HTML representation is unable to render, please try loading this page with nbviewer.org.</b></div><div class=\"sk-container\" hidden><div class=\"sk-item\"><div class=\"sk-estimator sk-toggleable\"><input class=\"sk-toggleable__control sk-hidden--visually\" id=\"sk-estimator-id-1\" type=\"checkbox\" checked><label for=\"sk-estimator-id-1\" class=\"sk-toggleable__label sk-toggleable__label-arrow\">RandomForestClassifier</label><div class=\"sk-toggleable__content\"><pre>RandomForestClassifier(criterion=&#x27;log_loss&#x27;, max_depth=10, min_samples_leaf=25,\n",
              "                       min_samples_split=50, n_estimators=1000, n_jobs=-1,\n",
              "                       oob_score=True, random_state=1000, verbose=3)</pre></div></div></div></div></div>"
            ]
          },
          "metadata": {},
          "execution_count": 39
        }
      ]
    },
    {
      "cell_type": "code",
      "source": [
        "rf.oob_score_"
      ],
      "metadata": {
        "id": "ee5Y8G8Zc2KL",
        "colab": {
          "base_uri": "https://localhost:8080/"
        },
        "outputId": "29eda7eb-767f-4f9f-c853-1afb633507b3"
      },
      "execution_count": 40,
      "outputs": [
        {
          "output_type": "execute_result",
          "data": {
            "text/plain": [
              "0.9298243730676743"
            ]
          },
          "metadata": {},
          "execution_count": 40
        }
      ]
    },
    {
      "cell_type": "code",
      "source": [
        "y_pred = rf.predict(df_test[features_list])\n",
        "precision = precision_score(df_test['churn'], y_pred)\n",
        "recall = recall_score(df_test['churn'], y_pred)\n",
        "print(precision)\n",
        "print(recall)"
      ],
      "metadata": {
        "id": "Xhyk2iYgc23w",
        "colab": {
          "base_uri": "https://localhost:8080/"
        },
        "outputId": "0e40a279-b310-4bcb-f8c8-18ffe904d2e6"
      },
      "execution_count": 41,
      "outputs": [
        {
          "output_type": "stream",
          "name": "stderr",
          "text": [
            "[Parallel(n_jobs=2)]: Using backend ThreadingBackend with 2 concurrent workers.\n",
            "[Parallel(n_jobs=2)]: Done  28 tasks      | elapsed:    0.3s\n",
            "[Parallel(n_jobs=2)]: Done 124 tasks      | elapsed:    1.1s\n",
            "[Parallel(n_jobs=2)]: Done 284 tasks      | elapsed:    2.6s\n",
            "[Parallel(n_jobs=2)]: Done 508 tasks      | elapsed:    4.7s\n",
            "[Parallel(n_jobs=2)]: Done 796 tasks      | elapsed:    7.4s\n"
          ]
        },
        {
          "output_type": "stream",
          "name": "stdout",
          "text": [
            "0.8960982658959538\n",
            "0.7483707458363504\n"
          ]
        },
        {
          "output_type": "stream",
          "name": "stderr",
          "text": [
            "[Parallel(n_jobs=2)]: Done 1000 out of 1000 | elapsed:    9.3s finished\n"
          ]
        }
      ]
    },
    {
      "cell_type": "code",
      "source": [
        "from sklearn.metrics import accuracy_score\n",
        "accuracy_score(df_test['churn'], y_pred)"
      ],
      "metadata": {
        "id": "Qhtdsnl6c59E",
        "colab": {
          "base_uri": "https://localhost:8080/"
        },
        "outputId": "69c2f28f-3b4b-48e4-a3c7-83484edd5b7f"
      },
      "execution_count": 42,
      "outputs": [
        {
          "output_type": "execute_result",
          "data": {
            "text/plain": [
              "0.9299892636887968"
            ]
          },
          "metadata": {},
          "execution_count": 42
        }
      ]
    },
    {
      "cell_type": "code",
      "source": [
        "import matplotlib.pyplot as plt\n",
        "feature_importance = rf.feature_importances_\n",
        "sorted_indices = np.argsort(feature_importance)[::-1]\n",
        "sorted_importance = feature_importance[sorted_indices]\n",
        "sorted_features = features_list\n",
        "\n",
        "plt.figure(figsize=(14, 6))\n",
        "plt.bar(range(len(sorted_importance)), sorted_importance, tick_label=sorted_features)\n",
        "plt.xticks(rotation=90)\n",
        "plt.xlabel('Features')\n",
        "plt.ylabel('Importance')\n",
        "plt.title('Feature Importances')\n",
        "plt.tight_layout()\n",
        "plt.show()"
      ],
      "metadata": {
        "id": "OCzVC_dIc8st",
        "colab": {
          "base_uri": "https://localhost:8080/",
          "height": 607
        },
        "outputId": "0c205a96-5911-4d97-d454-49c8f41b0654"
      },
      "execution_count": 43,
      "outputs": [
        {
          "output_type": "display_data",
          "data": {
            "text/plain": [
              "<Figure size 1400x600 with 1 Axes>"
            ],
            "image/png": "[encoded data removed]"
          },
          "metadata": {}
        }
      ]
    },
    {
      "cell_type": "code",
      "source": [
        "# explainer = shap.TreeExplainer(rf)\n",
        "# shap_values = explainer.shap_values(df_test[features_list])"
      ],
      "metadata": {
        "id": "yCjrQD_kdDRU"
      },
      "execution_count": 44,
      "outputs": []
    },
    {
      "cell_type": "code",
      "source": [
        "# shap.summary_plot(shap_values, df_test[features_list])"
      ],
      "metadata": {
        "id": "PxlHSsNGdFpJ"
      },
      "execution_count": 45,
      "outputs": []
    },
    {
      "cell_type": "code",
      "source": [
        "# shap.summary_plot(shap_values[1], df_test[features_list])"
      ],
      "metadata": {
        "id": "gHAPi4yGdH0v"
      },
      "execution_count": 46,
      "outputs": []
    },
    {
      "cell_type": "code",
      "source": [
        "# shap.summary_plot(shap_values[0], df_test[features_list])"
      ],
      "metadata": {
        "id": "uT2viD82dLIJ"
      },
      "execution_count": 47,
      "outputs": []
    },
    {
      "cell_type": "markdown",
      "source": [
        "### Word Embdeddings and Model Development"
      ],
      "metadata": {
        "id": "CnRUG8YhdSfm"
      }
    },
    {
      "cell_type": "code",
      "execution_count": 48,
      "metadata": {
        "id": "i8Rz0dBFzxwZ",
        "colab": {
          "base_uri": "https://localhost:8080/"
        },
        "outputId": "8fdcbb9d-9213-4fbe-a237-7ad626c3378e"
      },
      "outputs": [
        {
          "output_type": "stream",
          "name": "stdout",
          "text": [
            "lemma_antbnc download started this may take some time.\n",
            "Approximate size to download 907.6 KB\n",
            "[OK!]\n"
          ]
        }
      ],
      "source": [
        "# Spark NLP Pipeline\n",
        "### Text Tokens\n",
        "document_assembler = DocumentAssembler() \\\n",
        "    .setInputCol(\"text_only\")\n",
        "\n",
        "documentNormalizer = DocumentNormalizer() \\\n",
        "    .setInputCols(\"document\") \\\n",
        "    .setOutputCol(\"normalizedDocument\") \\\n",
        "    .setLowercase(True)\n",
        "\n",
        "sentence_detector = SentenceDetector() \\\n",
        "    .setInputCols([\"normalizedDocument\"]) \\\n",
        "    .setOutputCol(\"sentence\")\n",
        "\n",
        "tokenizer = Tokenizer() \\\n",
        "    .setInputCols([\"sentence\"]) \\\n",
        "    .setOutputCol(\"token\")\n",
        "\n",
        "lemmatizer = LemmatizerModel.pretrained() \\\n",
        "    .setInputCols([\"token\"]) \\\n",
        "    .setOutputCol(\"token_lemma\")\n",
        "\n",
        "finisher = Finisher() \\\n",
        "    .setInputCols([\"token_lemma\"]) \\\n",
        "    .setOutputCols([\"text_tokens\"]) \\\n",
        "    .setIncludeMetadata(False) \\\n",
        "    .setOutputAsArray(True)\n",
        "\n",
        "nlpPipeline = Pipeline(stages=[\n",
        "    document_assembler,\n",
        "    documentNormalizer,\n",
        "    sentence_detector,\n",
        "    tokenizer,\n",
        "    lemmatizer,\n",
        "    finisher\n",
        "])\n",
        "\n",
        "### Emoji Tokens\n",
        "document_assembler_emoji = DocumentAssembler() \\\n",
        "    .setInputCol(\"emoji_only\")\n",
        "\n",
        "sentence_detector_emoji = SentenceDetector() \\\n",
        "    .setInputCols([\"document\"]) \\\n",
        "    .setOutputCol(\"sentence\")\n",
        "\n",
        "tokenizer_emoji = Tokenizer() \\\n",
        "    .setInputCols([\"sentence\"]) \\\n",
        "    .setOutputCol(\"token\")\n",
        "\n",
        "finisher_emoji = Finisher() \\\n",
        "    .setInputCols([\"token\"]) \\\n",
        "    .setOutputCols([\"emoji_tokens\"]) \\\n",
        "    .setIncludeMetadata(False) \\\n",
        "    .setOutputAsArray(True)\n",
        "\n",
        "nlpPipeline_emoji = Pipeline(stages=[\n",
        "    document_assembler_emoji,\n",
        "    sentence_detector_emoji,\n",
        "    tokenizer_emoji,\n",
        "    finisher_emoji\n",
        "])\n",
        "\n",
        "### punctuations\n",
        "document_assembler_punc = DocumentAssembler() \\\n",
        "    .setInputCol(\"punctuations\")\n",
        "\n",
        "sentence_detector_punc = SentenceDetector() \\\n",
        "    .setInputCols([\"document\"]) \\\n",
        "    .setOutputCol(\"sentence\")\n",
        "\n",
        "tokenizer_punc= Tokenizer() \\\n",
        "    .setInputCols([\"sentence\"]) \\\n",
        "    .setOutputCol(\"token\")\n",
        "\n",
        "finisher_punc = Finisher() \\\n",
        "    .setInputCols([\"token\"]) \\\n",
        "    .setOutputCols([\"punctuation_tokens\"]) \\\n",
        "    .setIncludeMetadata(False) \\\n",
        "    .setOutputAsArray(True)\n",
        "\n",
        "nlpPipeline_punc = Pipeline(stages=[\n",
        "    document_assembler_punc,\n",
        "    sentence_detector_punc,\n",
        "    tokenizer_punc,\n",
        "    finisher_punc\n",
        "])\n",
        "\n"
      ]
    },
    {
      "cell_type": "code",
      "execution_count": 49,
      "metadata": {
        "id": "FEFgn0fQ0x8l"
      },
      "outputs": [],
      "source": [
        "venmo_user = nlpPipeline.fit(venmo_user).transform(venmo_user)\n",
        "venmo_user = nlpPipeline_emoji.fit(venmo_user).transform(venmo_user)\n",
        "venmo_user = nlpPipeline_punc.fit(venmo_user).transform(venmo_user)"
      ]
    },
    {
      "cell_type": "code",
      "source": [
        "# Perform stratified sampling\n",
        "venmo_user =  venmo_user.fillna(0)\n",
        "venmo_train = venmo_user.sampleBy('churn', fractions={0: 0.7, 1: 0.7}, seed=10)\n",
        "venmo_test = venmo_user.subtract(venmo_train)"
      ],
      "metadata": {
        "id": "LlUkxaN9k9_K"
      },
      "execution_count": 50,
      "outputs": []
    },
    {
      "cell_type": "code",
      "execution_count": 51,
      "metadata": {
        "id": "Kt14G_qX7NgH"
      },
      "outputs": [],
      "source": [
        "from pyspark.ml.feature import HashingTF, IDF"
      ]
    },
    {
      "cell_type": "code",
      "execution_count": 52,
      "metadata": {
        "id": "nXt5vwGwXtl0"
      },
      "outputs": [],
      "source": [
        "hashingTF = HashingTF(inputCol=\"text_tokens\", outputCol=\"countfeatures\")\n",
        "\n",
        "idf = IDF(inputCol=\"countfeatures\", outputCol=\"tf_idf_features\", minDocFreq=5) #minDocFreq: remove sparse terms\n",
        "\n",
        "nlp_pipeline_tf = Pipeline(\n",
        "    stages=[\n",
        "            hashingTF,\n",
        "            idf\n",
        "            ])\n",
        "\n",
        "nlp_model_tf = nlp_pipeline_tf.fit(venmo_train)"
      ]
    },
    {
      "cell_type": "code",
      "execution_count": 53,
      "metadata": {
        "id": "5r2TpmKWYzMb"
      },
      "outputs": [],
      "source": [
        "venmo_train = nlp_model_tf.transform(venmo_train)\n",
        "venmo_test = nlp_model_tf.transform(venmo_test)"
      ]
    },
    {
      "cell_type": "markdown",
      "source": [
        "### Count Features and Modelling"
      ],
      "metadata": {
        "id": "Dbf5wgNwd05r"
      }
    },
    {
      "cell_type": "code",
      "execution_count": null,
      "metadata": {
        "id": "BfBpJmQqX5Ut"
      },
      "outputs": [],
      "source": [
        "from pyspark.ml.classification import LogisticRegression\n",
        "from pyspark.ml.feature import VectorAssembler\n",
        "from pyspark.ml.evaluation import BinaryClassificationEvaluator\n",
        "\n",
        "\n",
        "assembler = VectorAssembler(inputCols=[\"countfeatures\"], outputCol=\"features\")\n",
        "training_data = assembler.transform(venmo_train)\n",
        "\n",
        "# rf = RandomForestClassifier(numTrees=100, maxDepth=5, labelCol=\"churn\", seed=42,subsamplingRate=0.4)\n",
        "# model = rf.fit(training_data)\n",
        "\n",
        "lr = LogisticRegression(featuresCol=\"features\", labelCol=\"churn\")\n",
        "model = lr.fit(training_data)\n",
        "\n",
        "# make predictions on the testing data\n",
        "predictions = model.transform(training_data)\n",
        "predictions.show(1,0)\n",
        "\n",
        "\n",
        "evaluator = BinaryClassificationEvaluator(rawPredictionCol=\"prediction\", labelCol=\"churn\")\n",
        "auc = evaluator.evaluate(predictions, {evaluator.metricName: \"areaUnderROC\"})\n",
        "\n",
        "print(\"Train AUC: {:.4f}\".format(auc))\n",
        "\n",
        "# create a feature vector from the \"name\" column in the testing data\n",
        "testing_data = assembler.transform(venmo_test)\n",
        "\n",
        "# make predictions on the testing data\n",
        "predictions = model.transform(testing_data)\n",
        "predictions.show(1,0)\n",
        "\n",
        "\n",
        "evaluator = BinaryClassificationEvaluator(rawPredictionCol=\"prediction\", labelCol=\"churn\")\n",
        "auc = evaluator.evaluate(predictions, {evaluator.metricName: \"areaUnderROC\"})\n",
        "\n",
        "print(\"Test AUC: {:.4f}\".format(auc))"
      ]
    },
    {
      "cell_type": "markdown",
      "metadata": {
        "id": "QPU433aulKQ8"
      },
      "source": [
        "### TF-IDF Features and Model Development"
      ]
    },
    {
      "cell_type": "code",
      "execution_count": null,
      "metadata": {
        "id": "jdG7m1qIk704"
      },
      "outputs": [],
      "source": [
        "from pyspark.ml.classification import LogisticRegression\n",
        "from pyspark.ml.feature import VectorAssembler\n",
        "\n",
        "\n",
        "assembler = VectorAssembler(inputCols=[\"tf_idf_features\"], outputCol=\"features\")\n",
        "training_data = assembler.transform(venmo_train)\n",
        "\n",
        "\n",
        "lr = LogisticRegression(featuresCol=\"features\", labelCol=\"churn\")\n",
        "model = lr.fit(training_data)"
      ]
    },
    {
      "cell_type": "code",
      "execution_count": null,
      "metadata": {
        "id": "KQUr_os6I8g0"
      },
      "outputs": [],
      "source": [
        "# make predictions on the testing data\n",
        "predictions = model.transform(training_data)\n",
        "predictions.show(1,0)\n",
        "\n",
        "\n",
        "evaluator = BinaryClassificationEvaluator(rawPredictionCol=\"prediction\", labelCol=\"churn\")\n",
        "auc = evaluator.evaluate(predictions, {evaluator.metricName: \"areaUnderROC\"})\n",
        "\n",
        "print(\"Train AUC: {:.4f}\".format(auc))\n",
        "\n",
        "# create a feature vector from the \"name\" column in the testing data\n",
        "testing_data = assembler.transform(venmo_test)\n",
        "\n",
        "# make predictions on the testing data\n",
        "predictions = model.transform(testing_data)\n",
        "predictions.show(1,0)\n",
        "\n",
        "\n",
        "evaluator = BinaryClassificationEvaluator(rawPredictionCol=\"prediction\", labelCol=\"churn\")\n",
        "auc = evaluator.evaluate(predictions, {evaluator.metricName: \"areaUnderROC\"})\n",
        "\n",
        "print(\"Test AUC: {:.4f}\".format(auc))"
      ]
    },
    {
      "cell_type": "code",
      "execution_count": null,
      "metadata": {
        "id": "hgLkHLSwJZS4"
      },
      "outputs": [],
      "source": [
        "from pyspark.ml.evaluation import BinaryClassificationEvaluator\n",
        "\n",
        "evaluator = BinaryClassificationEvaluator(rawPredictionCol=\"prediction\", labelCol=\"churn\")\n",
        "auc = evaluator.evaluate(predictions, {evaluator.metricName: \"areaUnderROC\"})\n",
        "print(\"AUC: {:.4f}\".format(auc))"
      ]
    },
    {
      "cell_type": "code",
      "execution_count": null,
      "metadata": {
        "id": "7QCCa_ORqKmm"
      },
      "outputs": [],
      "source": [
        "from pyspark.ml.feature import CountVectorizer, IDF\n",
        "\n",
        "# Define the input data\n",
        "data = [(\"example\",),\n",
        "        (\"yet\",),\n",
        "        (\"example another yet example\",)]\n",
        "\n",
        "df = spark.createDataFrame(data, [\"text_only\"])\n",
        "from pyspark.sql.functions import split\n",
        "\n",
        "df = nlpPipeline.fit(df).transform(df)\n",
        "\n",
        "df = nlp_pipeline_tf.fit(df).transform(df)\n",
        "df.show(3,0)"
      ]
    },
    {
      "cell_type": "code",
      "source": [],
      "metadata": {
        "id": "CIJIZmNuhpvd"
      },
      "execution_count": null,
      "outputs": []
    }
  ],
  "metadata": {
    "colab": {
      "provenance": []
    },
    "kernelspec": {
      "display_name": "Python 3",
      "name": "python3"
    },
    "language_info": {
      "name": "python"
    }
  },
  "nbformat": 4,
  "nbformat_minor": 0
}